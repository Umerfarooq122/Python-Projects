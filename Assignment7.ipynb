{
  "nbformat": 4,
  "nbformat_minor": 0,
  "metadata": {
    "colab": {
      "provenance": [],
      "authorship_tag": "ABX9TyO9RQkMG7p0GV6cvJYHgs6X",
      "include_colab_link": true
    },
    "kernelspec": {
      "name": "python3",
      "display_name": "Python 3"
    },
    "language_info": {
      "name": "python"
    }
  },
  "cells": [
    {
      "cell_type": "markdown",
      "metadata": {
        "id": "view-in-github",
        "colab_type": "text"
      },
      "source": [
        "<a href=\"https://colab.research.google.com/github/Umerfarooq122/Python-Projects/blob/main/Assignment7.ipynb\" target=\"_parent\"><img src=\"https://colab.research.google.com/assets/colab-badge.svg\" alt=\"Open In Colab\"/></a>"
      ]
    },
    {
      "cell_type": "markdown",
      "source": [
        "\n",
        "## **Data Cleaning**\n",
        "\n",
        "\n",
        "---\n",
        "Data Cleaning is the process of transforming raw data into consistent data that can be analyzed. It is aimed at improving the content of statistical statements based on the data as well as their reliability. Data cleaning may profoundly influence the statistical statements based on the data.\n",
        "\n",
        "**About the the Data set**\n",
        "\n",
        "> This dataset includes information on food choices, nutrition, preferences, childhood favorites, and other information from college students. There are 126 responses from students. Data is raw and uncleaned. In this raw data, we have a categorical variables which have been encoded to Continuous variables for analysis. So, our major data cleaning task in here is to take care of the missing values and also to make sure there are no discrepancies in the encoded data\n",
        "\n",
        "The Data set choosen for the data cleaning task is downloaded from Kaggle. Kaggle is an online community platform for data scientists and machine learning enthusiasts. Kaggle allows users to collaborate with other users, find and publish datasets, use GPU integrated notebooks, and compete with other data scientists to solve data science challenges.\n",
        "\n",
        "After dowloading the data set, it was stored in a github repository from where it was loaded into notebook.\n",
        "\n",
        "\n",
        "\n"
      ],
      "metadata": {
        "id": "dxBWlZdw2JhC"
      }
    },
    {
      "cell_type": "code",
      "execution_count": 92,
      "metadata": {
        "id": "HAFaiJBhLKyB"
      },
      "outputs": [],
      "source": [
        "# Setting up the enviromnet\n",
        "\n",
        "import numpy as np\n",
        "import pandas as pd\n",
        "import seaborn as sns\n",
        "import matplotlib.pyplot as plt\n",
        "\n"
      ]
    },
    {
      "cell_type": "code",
      "source": [
        "# Loading the data set\n",
        "\n",
        "df = pd.read_csv(\"https://raw.githubusercontent.com/Umerfarooq122/Data_sets/main/food_coded.csv\")\n",
        "\n",
        "# Displaying first 4 and last 4 rows\n",
        "\n",
        "df.head(4)\n"
      ],
      "metadata": {
        "colab": {
          "base_uri": "https://localhost:8080/",
          "height": 372
        },
        "id": "skGassVm3mwa",
        "outputId": "401bdb75-bc8a-4cd7-99b8-16cac531c928"
      },
      "execution_count": 93,
      "outputs": [
        {
          "output_type": "execute_result",
          "data": {
            "text/plain": [
              "     GPA  Gender  breakfast  calories_chicken  calories_day  calories_scone  \\\n",
              "0    2.4       2          1               430           NaN           315.0   \n",
              "1  3.654       1          1               610           3.0           420.0   \n",
              "2    3.3       1          1               720           4.0           420.0   \n",
              "3    3.2       1          1               430           3.0           420.0   \n",
              "\n",
              "   coffee                      comfort_food   comfort_food_reasons  \\\n",
              "0       1                              none  we dont have comfort    \n",
              "1       2       chocolate, chips, ice cream   Stress, bored, anger   \n",
              "2       2   frozen yogurt, pizza, fast food        stress, sadness   \n",
              "3       2  Pizza, Mac and cheese, ice cream                Boredom   \n",
              "\n",
              "   comfort_food_reasons_coded  ...  soup  sports  thai_food tortilla_calories  \\\n",
              "0                         9.0  ...   1.0     1.0          1            1165.0   \n",
              "1                         1.0  ...   1.0     1.0          2             725.0   \n",
              "2                         1.0  ...   1.0     2.0          5            1165.0   \n",
              "3                         2.0  ...   1.0     2.0          5             725.0   \n",
              "\n",
              "   turkey_calories  type_sports veggies_day  vitamins  waffle_calories  \\\n",
              "0              345   car racing           5         1             1315   \n",
              "1              690  Basketball            4         2              900   \n",
              "2              500         none           5         1              900   \n",
              "3              690          NaN           3         1             1315   \n",
              "\n",
              "                     weight  \n",
              "0                       187  \n",
              "1                       155  \n",
              "2  I'm not answering this.   \n",
              "3             Not sure, 240  \n",
              "\n",
              "[4 rows x 61 columns]"
            ],
            "text/html": [
              "\n",
              "  <div id=\"df-5d7655ed-b7b4-4c2f-ba0a-09d1abf85abb\">\n",
              "    <div class=\"colab-df-container\">\n",
              "      <div>\n",
              "<style scoped>\n",
              "    .dataframe tbody tr th:only-of-type {\n",
              "        vertical-align: middle;\n",
              "    }\n",
              "\n",
              "    .dataframe tbody tr th {\n",
              "        vertical-align: top;\n",
              "    }\n",
              "\n",
              "    .dataframe thead th {\n",
              "        text-align: right;\n",
              "    }\n",
              "</style>\n",
              "<table border=\"1\" class=\"dataframe\">\n",
              "  <thead>\n",
              "    <tr style=\"text-align: right;\">\n",
              "      <th></th>\n",
              "      <th>GPA</th>\n",
              "      <th>Gender</th>\n",
              "      <th>breakfast</th>\n",
              "      <th>calories_chicken</th>\n",
              "      <th>calories_day</th>\n",
              "      <th>calories_scone</th>\n",
              "      <th>coffee</th>\n",
              "      <th>comfort_food</th>\n",
              "      <th>comfort_food_reasons</th>\n",
              "      <th>comfort_food_reasons_coded</th>\n",
              "      <th>...</th>\n",
              "      <th>soup</th>\n",
              "      <th>sports</th>\n",
              "      <th>thai_food</th>\n",
              "      <th>tortilla_calories</th>\n",
              "      <th>turkey_calories</th>\n",
              "      <th>type_sports</th>\n",
              "      <th>veggies_day</th>\n",
              "      <th>vitamins</th>\n",
              "      <th>waffle_calories</th>\n",
              "      <th>weight</th>\n",
              "    </tr>\n",
              "  </thead>\n",
              "  <tbody>\n",
              "    <tr>\n",
              "      <th>0</th>\n",
              "      <td>2.4</td>\n",
              "      <td>2</td>\n",
              "      <td>1</td>\n",
              "      <td>430</td>\n",
              "      <td>NaN</td>\n",
              "      <td>315.0</td>\n",
              "      <td>1</td>\n",
              "      <td>none</td>\n",
              "      <td>we dont have comfort</td>\n",
              "      <td>9.0</td>\n",
              "      <td>...</td>\n",
              "      <td>1.0</td>\n",
              "      <td>1.0</td>\n",
              "      <td>1</td>\n",
              "      <td>1165.0</td>\n",
              "      <td>345</td>\n",
              "      <td>car racing</td>\n",
              "      <td>5</td>\n",
              "      <td>1</td>\n",
              "      <td>1315</td>\n",
              "      <td>187</td>\n",
              "    </tr>\n",
              "    <tr>\n",
              "      <th>1</th>\n",
              "      <td>3.654</td>\n",
              "      <td>1</td>\n",
              "      <td>1</td>\n",
              "      <td>610</td>\n",
              "      <td>3.0</td>\n",
              "      <td>420.0</td>\n",
              "      <td>2</td>\n",
              "      <td>chocolate, chips, ice cream</td>\n",
              "      <td>Stress, bored, anger</td>\n",
              "      <td>1.0</td>\n",
              "      <td>...</td>\n",
              "      <td>1.0</td>\n",
              "      <td>1.0</td>\n",
              "      <td>2</td>\n",
              "      <td>725.0</td>\n",
              "      <td>690</td>\n",
              "      <td>Basketball</td>\n",
              "      <td>4</td>\n",
              "      <td>2</td>\n",
              "      <td>900</td>\n",
              "      <td>155</td>\n",
              "    </tr>\n",
              "    <tr>\n",
              "      <th>2</th>\n",
              "      <td>3.3</td>\n",
              "      <td>1</td>\n",
              "      <td>1</td>\n",
              "      <td>720</td>\n",
              "      <td>4.0</td>\n",
              "      <td>420.0</td>\n",
              "      <td>2</td>\n",
              "      <td>frozen yogurt, pizza, fast food</td>\n",
              "      <td>stress, sadness</td>\n",
              "      <td>1.0</td>\n",
              "      <td>...</td>\n",
              "      <td>1.0</td>\n",
              "      <td>2.0</td>\n",
              "      <td>5</td>\n",
              "      <td>1165.0</td>\n",
              "      <td>500</td>\n",
              "      <td>none</td>\n",
              "      <td>5</td>\n",
              "      <td>1</td>\n",
              "      <td>900</td>\n",
              "      <td>I'm not answering this.</td>\n",
              "    </tr>\n",
              "    <tr>\n",
              "      <th>3</th>\n",
              "      <td>3.2</td>\n",
              "      <td>1</td>\n",
              "      <td>1</td>\n",
              "      <td>430</td>\n",
              "      <td>3.0</td>\n",
              "      <td>420.0</td>\n",
              "      <td>2</td>\n",
              "      <td>Pizza, Mac and cheese, ice cream</td>\n",
              "      <td>Boredom</td>\n",
              "      <td>2.0</td>\n",
              "      <td>...</td>\n",
              "      <td>1.0</td>\n",
              "      <td>2.0</td>\n",
              "      <td>5</td>\n",
              "      <td>725.0</td>\n",
              "      <td>690</td>\n",
              "      <td>NaN</td>\n",
              "      <td>3</td>\n",
              "      <td>1</td>\n",
              "      <td>1315</td>\n",
              "      <td>Not sure, 240</td>\n",
              "    </tr>\n",
              "  </tbody>\n",
              "</table>\n",
              "<p>4 rows × 61 columns</p>\n",
              "</div>\n",
              "      <button class=\"colab-df-convert\" onclick=\"convertToInteractive('df-5d7655ed-b7b4-4c2f-ba0a-09d1abf85abb')\"\n",
              "              title=\"Convert this dataframe to an interactive table.\"\n",
              "              style=\"display:none;\">\n",
              "        \n",
              "  <svg xmlns=\"http://www.w3.org/2000/svg\" height=\"24px\"viewBox=\"0 0 24 24\"\n",
              "       width=\"24px\">\n",
              "    <path d=\"M0 0h24v24H0V0z\" fill=\"none\"/>\n",
              "    <path d=\"M18.56 5.44l.94 2.06.94-2.06 2.06-.94-2.06-.94-.94-2.06-.94 2.06-2.06.94zm-11 1L8.5 8.5l.94-2.06 2.06-.94-2.06-.94L8.5 2.5l-.94 2.06-2.06.94zm10 10l.94 2.06.94-2.06 2.06-.94-2.06-.94-.94-2.06-.94 2.06-2.06.94z\"/><path d=\"M17.41 7.96l-1.37-1.37c-.4-.4-.92-.59-1.43-.59-.52 0-1.04.2-1.43.59L10.3 9.45l-7.72 7.72c-.78.78-.78 2.05 0 2.83L4 21.41c.39.39.9.59 1.41.59.51 0 1.02-.2 1.41-.59l7.78-7.78 2.81-2.81c.8-.78.8-2.07 0-2.86zM5.41 20L4 18.59l7.72-7.72 1.47 1.35L5.41 20z\"/>\n",
              "  </svg>\n",
              "      </button>\n",
              "      \n",
              "  <style>\n",
              "    .colab-df-container {\n",
              "      display:flex;\n",
              "      flex-wrap:wrap;\n",
              "      gap: 12px;\n",
              "    }\n",
              "\n",
              "    .colab-df-convert {\n",
              "      background-color: #E8F0FE;\n",
              "      border: none;\n",
              "      border-radius: 50%;\n",
              "      cursor: pointer;\n",
              "      display: none;\n",
              "      fill: #1967D2;\n",
              "      height: 32px;\n",
              "      padding: 0 0 0 0;\n",
              "      width: 32px;\n",
              "    }\n",
              "\n",
              "    .colab-df-convert:hover {\n",
              "      background-color: #E2EBFA;\n",
              "      box-shadow: 0px 1px 2px rgba(60, 64, 67, 0.3), 0px 1px 3px 1px rgba(60, 64, 67, 0.15);\n",
              "      fill: #174EA6;\n",
              "    }\n",
              "\n",
              "    [theme=dark] .colab-df-convert {\n",
              "      background-color: #3B4455;\n",
              "      fill: #D2E3FC;\n",
              "    }\n",
              "\n",
              "    [theme=dark] .colab-df-convert:hover {\n",
              "      background-color: #434B5C;\n",
              "      box-shadow: 0px 1px 3px 1px rgba(0, 0, 0, 0.15);\n",
              "      filter: drop-shadow(0px 1px 2px rgba(0, 0, 0, 0.3));\n",
              "      fill: #FFFFFF;\n",
              "    }\n",
              "  </style>\n",
              "\n",
              "      <script>\n",
              "        const buttonEl =\n",
              "          document.querySelector('#df-5d7655ed-b7b4-4c2f-ba0a-09d1abf85abb button.colab-df-convert');\n",
              "        buttonEl.style.display =\n",
              "          google.colab.kernel.accessAllowed ? 'block' : 'none';\n",
              "\n",
              "        async function convertToInteractive(key) {\n",
              "          const element = document.querySelector('#df-5d7655ed-b7b4-4c2f-ba0a-09d1abf85abb');\n",
              "          const dataTable =\n",
              "            await google.colab.kernel.invokeFunction('convertToInteractive',\n",
              "                                                     [key], {});\n",
              "          if (!dataTable) return;\n",
              "\n",
              "          const docLinkHtml = 'Like what you see? Visit the ' +\n",
              "            '<a target=\"_blank\" href=https://colab.research.google.com/notebooks/data_table.ipynb>data table notebook</a>'\n",
              "            + ' to learn more about interactive tables.';\n",
              "          element.innerHTML = '';\n",
              "          dataTable['output_type'] = 'display_data';\n",
              "          await google.colab.output.renderOutput(dataTable, element);\n",
              "          const docLink = document.createElement('div');\n",
              "          docLink.innerHTML = docLinkHtml;\n",
              "          element.appendChild(docLink);\n",
              "        }\n",
              "      </script>\n",
              "    </div>\n",
              "  </div>\n",
              "  "
            ]
          },
          "metadata": {},
          "execution_count": 93
        }
      ]
    },
    {
      "cell_type": "code",
      "source": [
        "df.shape"
      ],
      "metadata": {
        "colab": {
          "base_uri": "https://localhost:8080/"
        },
        "id": "nL1yT_jRDNI_",
        "outputId": "727519b1-42a0-481f-e22a-6f25a065e9fc"
      },
      "execution_count": 94,
      "outputs": [
        {
          "output_type": "execute_result",
          "data": {
            "text/plain": [
              "(125, 61)"
            ]
          },
          "metadata": {},
          "execution_count": 94
        }
      ]
    },
    {
      "cell_type": "code",
      "source": [
        "#Checking column name:\n",
        "\n",
        "df.columns"
      ],
      "metadata": {
        "colab": {
          "base_uri": "https://localhost:8080/"
        },
        "id": "vFCKXleKLnse",
        "outputId": "23c03229-a812-4e04-99aa-39b04213c840"
      },
      "execution_count": 95,
      "outputs": [
        {
          "output_type": "execute_result",
          "data": {
            "text/plain": [
              "Index(['GPA', 'Gender', 'breakfast', 'calories_chicken', 'calories_day',\n",
              "       'calories_scone', 'coffee', 'comfort_food', 'comfort_food_reasons',\n",
              "       'comfort_food_reasons_coded', 'cook', 'comfort_food_reasons_coded.1',\n",
              "       'cuisine', 'diet_current', 'diet_current_coded', 'drink',\n",
              "       'eating_changes', 'eating_changes_coded', 'eating_changes_coded1',\n",
              "       'eating_out', 'employment', 'ethnic_food', 'exercise',\n",
              "       'father_education', 'father_profession', 'fav_cuisine',\n",
              "       'fav_cuisine_coded', 'fav_food', 'food_childhood', 'fries', 'fruit_day',\n",
              "       'grade_level', 'greek_food', 'healthy_feeling', 'healthy_meal',\n",
              "       'ideal_diet', 'ideal_diet_coded', 'income', 'indian_food',\n",
              "       'italian_food', 'life_rewarding', 'marital_status',\n",
              "       'meals_dinner_friend', 'mother_education', 'mother_profession',\n",
              "       'nutritional_check', 'on_off_campus', 'parents_cook', 'pay_meal_out',\n",
              "       'persian_food', 'self_perception_weight', 'soup', 'sports', 'thai_food',\n",
              "       'tortilla_calories', 'turkey_calories', 'type_sports', 'veggies_day',\n",
              "       'vitamins', 'waffle_calories', 'weight'],\n",
              "      dtype='object')"
            ]
          },
          "metadata": {},
          "execution_count": 95
        }
      ]
    },
    {
      "cell_type": "markdown",
      "source": [
        "The column names look perfectly fine and meaningful. Let's create a list of columns that contains the missing values"
      ],
      "metadata": {
        "id": "hGHiSNra-LHi"
      }
    },
    {
      "cell_type": "code",
      "source": [
        "# Saving the columns that has missing values\n",
        "cols_with_missing = [col for col in df.columns\n",
        "                     if df[col].isnull().any()]"
      ],
      "metadata": {
        "id": "tVSquTMuLxac"
      },
      "execution_count": 96,
      "outputs": []
    },
    {
      "cell_type": "code",
      "source": [
        "# Printing the names of columns and number of missing values in that column\n",
        "for i in cols_with_missing:\n",
        "    print(i,df[i].isnull().sum())"
      ],
      "metadata": {
        "colab": {
          "base_uri": "https://localhost:8080/"
        },
        "id": "Cs7qLg2WNiYi",
        "outputId": "60978126-ba87-45fa-c075-e505f7a0d68e"
      },
      "execution_count": 97,
      "outputs": [
        {
          "output_type": "stream",
          "name": "stdout",
          "text": [
            "GPA 2\n",
            "calories_day 19\n",
            "calories_scone 1\n",
            "comfort_food 1\n",
            "comfort_food_reasons 1\n",
            "comfort_food_reasons_coded 19\n",
            "cook 3\n",
            "cuisine 17\n",
            "diet_current 1\n",
            "drink 2\n",
            "eating_changes 3\n",
            "employment 9\n",
            "exercise 13\n",
            "father_education 1\n",
            "father_profession 3\n",
            "fav_cuisine 2\n",
            "fav_food 2\n",
            "food_childhood 1\n",
            "healthy_meal 1\n",
            "ideal_diet 1\n",
            "income 1\n",
            "life_rewarding 1\n",
            "marital_status 1\n",
            "meals_dinner_friend 3\n",
            "mother_education 3\n",
            "mother_profession 2\n",
            "on_off_campus 1\n",
            "persian_food 1\n",
            "self_perception_weight 1\n",
            "soup 1\n",
            "sports 2\n",
            "tortilla_calories 1\n",
            "type_sports 21\n",
            "weight 2\n"
          ]
        }
      ]
    },
    {
      "cell_type": "markdown",
      "source": [
        "We can see that some column like `type_sport`,`exercise`,`cuisine` e.t.c has a lot of missing data if we remove them from data frame, we will be missing out on a lot of information. So lets replace the missing values in those column by meaningful replacement using `fill.na()`."
      ],
      "metadata": {
        "id": "hlCRDBHRBqBw"
      }
    },
    {
      "cell_type": "code",
      "source": [
        "df['calories_day'].fillna(1,inplace=True)\n",
        "df['comfort_food_reasons_coded'].fillna(9,inplace=True)\n",
        "df['cuisine'].fillna(6,inplace=True)\n",
        "df['employment'].fillna(4,inplace=True)\n",
        "df['exercise'].fillna(5,inplace=True)\n",
        "df['type_sports'].fillna('Nothing',inplace=True)\n"
      ],
      "metadata": {
        "id": "wFMTXlqnS4yg"
      },
      "execution_count": 98,
      "outputs": []
    },
    {
      "cell_type": "markdown",
      "source": [
        "After replacing the values in columns with a lot of missing values. Lets reomve the other missing values"
      ],
      "metadata": {
        "id": "T3SVKqhrCkFh"
      }
    },
    {
      "cell_type": "code",
      "source": [
        "# Removing missing values\n",
        "for i in cols_with_missing:\n",
        "    df = df[~df[i].isnull()]"
      ],
      "metadata": {
        "id": "a8jcm7ymtoEG"
      },
      "execution_count": 99,
      "outputs": []
    },
    {
      "cell_type": "code",
      "source": [
        "# Checking the shape of data frame after the removing the missing values\n",
        "df.shape"
      ],
      "metadata": {
        "colab": {
          "base_uri": "https://localhost:8080/"
        },
        "id": "irjRoErzuslE",
        "outputId": "d1e833c7-c55f-474f-fb43-742d21c46444"
      },
      "execution_count": 100,
      "outputs": [
        {
          "output_type": "execute_result",
          "data": {
            "text/plain": [
              "(101, 61)"
            ]
          },
          "metadata": {},
          "execution_count": 100
        }
      ]
    },
    {
      "cell_type": "markdown",
      "source": [
        "We can see that some of the rows have been removed because of missing values. Let me just check the data type of columns if there are any bogus values or data type. I will use `decribe()` function to see if all the numeric data is defined as int or float."
      ],
      "metadata": {
        "id": "IrQrHwd_DSfU"
      }
    },
    {
      "cell_type": "code",
      "source": [
        "df.describe()"
      ],
      "metadata": {
        "colab": {
          "base_uri": "https://localhost:8080/",
          "height": 393
        },
        "id": "9kBviELfxA_X",
        "outputId": "a3c51b52-d8d2-413f-c8ec-042113698f6a"
      },
      "execution_count": 101,
      "outputs": [
        {
          "output_type": "execute_result",
          "data": {
            "text/plain": [
              "           Gender   breakfast  calories_chicken  calories_day  calories_scone  \\\n",
              "count  101.000000  101.000000        101.000000    101.000000      101.000000   \n",
              "mean     1.376238    1.099010        588.465347      2.792079      494.158416   \n",
              "std      0.486857    0.300165        122.089604      0.909031      214.860500   \n",
              "min      1.000000    1.000000        265.000000      1.000000      315.000000   \n",
              "25%      1.000000    1.000000        610.000000      2.000000      420.000000   \n",
              "50%      1.000000    1.000000        610.000000      3.000000      420.000000   \n",
              "75%      2.000000    1.000000        720.000000      3.000000      420.000000   \n",
              "max      2.000000    2.000000        720.000000      4.000000      980.000000   \n",
              "\n",
              "           coffee  comfort_food_reasons_coded        cook  \\\n",
              "count  101.000000                  101.000000  101.000000   \n",
              "mean     1.742574                    3.613861    2.722772   \n",
              "std      0.439397                    2.939287    1.068820   \n",
              "min      1.000000                    1.000000    1.000000   \n",
              "25%      1.000000                    2.000000    2.000000   \n",
              "50%      2.000000                    2.000000    3.000000   \n",
              "75%      2.000000                    5.000000    3.000000   \n",
              "max      2.000000                    9.000000    5.000000   \n",
              "\n",
              "       comfort_food_reasons_coded.1     cuisine  ...  persian_food  \\\n",
              "count                    101.000000  101.000000  ...    101.000000   \n",
              "mean                       2.584158    1.950495  ...      2.801980   \n",
              "std                        1.872257    1.818660  ...      1.385784   \n",
              "min                        1.000000    1.000000  ...      1.000000   \n",
              "25%                        1.000000    1.000000  ...      2.000000   \n",
              "50%                        2.000000    1.000000  ...      3.000000   \n",
              "75%                        3.000000    2.000000  ...      4.000000   \n",
              "max                        9.000000    6.000000  ...      5.000000   \n",
              "\n",
              "       self_perception_weight        soup      sports   thai_food  \\\n",
              "count              101.000000  101.000000  101.000000  101.000000   \n",
              "mean                 3.148515    1.217822    1.356436    3.336634   \n",
              "std                  1.152269    0.414824    0.481335    1.444141   \n",
              "min                  1.000000    1.000000    1.000000    1.000000   \n",
              "25%                  2.000000    1.000000    1.000000    2.000000   \n",
              "50%                  3.000000    1.000000    1.000000    4.000000   \n",
              "75%                  4.000000    1.000000    2.000000    5.000000   \n",
              "max                  6.000000    2.000000    2.000000    5.000000   \n",
              "\n",
              "       tortilla_calories  turkey_calories  veggies_day    vitamins  \\\n",
              "count         101.000000       101.000000   101.000000  101.000000   \n",
              "mean          950.693069       570.940594     4.039604    1.485149   \n",
              "std           201.003768       150.536894     1.066966    0.502272   \n",
              "min           580.000000       345.000000     1.000000    1.000000   \n",
              "25%           725.000000       500.000000     3.000000    1.000000   \n",
              "50%           940.000000       500.000000     4.000000    1.000000   \n",
              "75%          1165.000000       690.000000     5.000000    2.000000   \n",
              "max          1165.000000       850.000000     5.000000    2.000000   \n",
              "\n",
              "       waffle_calories  \n",
              "count       101.000000  \n",
              "mean       1080.000000  \n",
              "std         244.726378  \n",
              "min         575.000000  \n",
              "25%         900.000000  \n",
              "50%        1315.000000  \n",
              "75%        1315.000000  \n",
              "max        1315.000000  \n",
              "\n",
              "[8 rows x 47 columns]"
            ],
            "text/html": [
              "\n",
              "  <div id=\"df-f91103b3-8ce3-4db1-9b0a-027706c5227f\">\n",
              "    <div class=\"colab-df-container\">\n",
              "      <div>\n",
              "<style scoped>\n",
              "    .dataframe tbody tr th:only-of-type {\n",
              "        vertical-align: middle;\n",
              "    }\n",
              "\n",
              "    .dataframe tbody tr th {\n",
              "        vertical-align: top;\n",
              "    }\n",
              "\n",
              "    .dataframe thead th {\n",
              "        text-align: right;\n",
              "    }\n",
              "</style>\n",
              "<table border=\"1\" class=\"dataframe\">\n",
              "  <thead>\n",
              "    <tr style=\"text-align: right;\">\n",
              "      <th></th>\n",
              "      <th>Gender</th>\n",
              "      <th>breakfast</th>\n",
              "      <th>calories_chicken</th>\n",
              "      <th>calories_day</th>\n",
              "      <th>calories_scone</th>\n",
              "      <th>coffee</th>\n",
              "      <th>comfort_food_reasons_coded</th>\n",
              "      <th>cook</th>\n",
              "      <th>comfort_food_reasons_coded.1</th>\n",
              "      <th>cuisine</th>\n",
              "      <th>...</th>\n",
              "      <th>persian_food</th>\n",
              "      <th>self_perception_weight</th>\n",
              "      <th>soup</th>\n",
              "      <th>sports</th>\n",
              "      <th>thai_food</th>\n",
              "      <th>tortilla_calories</th>\n",
              "      <th>turkey_calories</th>\n",
              "      <th>veggies_day</th>\n",
              "      <th>vitamins</th>\n",
              "      <th>waffle_calories</th>\n",
              "    </tr>\n",
              "  </thead>\n",
              "  <tbody>\n",
              "    <tr>\n",
              "      <th>count</th>\n",
              "      <td>101.000000</td>\n",
              "      <td>101.000000</td>\n",
              "      <td>101.000000</td>\n",
              "      <td>101.000000</td>\n",
              "      <td>101.000000</td>\n",
              "      <td>101.000000</td>\n",
              "      <td>101.000000</td>\n",
              "      <td>101.000000</td>\n",
              "      <td>101.000000</td>\n",
              "      <td>101.000000</td>\n",
              "      <td>...</td>\n",
              "      <td>101.000000</td>\n",
              "      <td>101.000000</td>\n",
              "      <td>101.000000</td>\n",
              "      <td>101.000000</td>\n",
              "      <td>101.000000</td>\n",
              "      <td>101.000000</td>\n",
              "      <td>101.000000</td>\n",
              "      <td>101.000000</td>\n",
              "      <td>101.000000</td>\n",
              "      <td>101.000000</td>\n",
              "    </tr>\n",
              "    <tr>\n",
              "      <th>mean</th>\n",
              "      <td>1.376238</td>\n",
              "      <td>1.099010</td>\n",
              "      <td>588.465347</td>\n",
              "      <td>2.792079</td>\n",
              "      <td>494.158416</td>\n",
              "      <td>1.742574</td>\n",
              "      <td>3.613861</td>\n",
              "      <td>2.722772</td>\n",
              "      <td>2.584158</td>\n",
              "      <td>1.950495</td>\n",
              "      <td>...</td>\n",
              "      <td>2.801980</td>\n",
              "      <td>3.148515</td>\n",
              "      <td>1.217822</td>\n",
              "      <td>1.356436</td>\n",
              "      <td>3.336634</td>\n",
              "      <td>950.693069</td>\n",
              "      <td>570.940594</td>\n",
              "      <td>4.039604</td>\n",
              "      <td>1.485149</td>\n",
              "      <td>1080.000000</td>\n",
              "    </tr>\n",
              "    <tr>\n",
              "      <th>std</th>\n",
              "      <td>0.486857</td>\n",
              "      <td>0.300165</td>\n",
              "      <td>122.089604</td>\n",
              "      <td>0.909031</td>\n",
              "      <td>214.860500</td>\n",
              "      <td>0.439397</td>\n",
              "      <td>2.939287</td>\n",
              "      <td>1.068820</td>\n",
              "      <td>1.872257</td>\n",
              "      <td>1.818660</td>\n",
              "      <td>...</td>\n",
              "      <td>1.385784</td>\n",
              "      <td>1.152269</td>\n",
              "      <td>0.414824</td>\n",
              "      <td>0.481335</td>\n",
              "      <td>1.444141</td>\n",
              "      <td>201.003768</td>\n",
              "      <td>150.536894</td>\n",
              "      <td>1.066966</td>\n",
              "      <td>0.502272</td>\n",
              "      <td>244.726378</td>\n",
              "    </tr>\n",
              "    <tr>\n",
              "      <th>min</th>\n",
              "      <td>1.000000</td>\n",
              "      <td>1.000000</td>\n",
              "      <td>265.000000</td>\n",
              "      <td>1.000000</td>\n",
              "      <td>315.000000</td>\n",
              "      <td>1.000000</td>\n",
              "      <td>1.000000</td>\n",
              "      <td>1.000000</td>\n",
              "      <td>1.000000</td>\n",
              "      <td>1.000000</td>\n",
              "      <td>...</td>\n",
              "      <td>1.000000</td>\n",
              "      <td>1.000000</td>\n",
              "      <td>1.000000</td>\n",
              "      <td>1.000000</td>\n",
              "      <td>1.000000</td>\n",
              "      <td>580.000000</td>\n",
              "      <td>345.000000</td>\n",
              "      <td>1.000000</td>\n",
              "      <td>1.000000</td>\n",
              "      <td>575.000000</td>\n",
              "    </tr>\n",
              "    <tr>\n",
              "      <th>25%</th>\n",
              "      <td>1.000000</td>\n",
              "      <td>1.000000</td>\n",
              "      <td>610.000000</td>\n",
              "      <td>2.000000</td>\n",
              "      <td>420.000000</td>\n",
              "      <td>1.000000</td>\n",
              "      <td>2.000000</td>\n",
              "      <td>2.000000</td>\n",
              "      <td>1.000000</td>\n",
              "      <td>1.000000</td>\n",
              "      <td>...</td>\n",
              "      <td>2.000000</td>\n",
              "      <td>2.000000</td>\n",
              "      <td>1.000000</td>\n",
              "      <td>1.000000</td>\n",
              "      <td>2.000000</td>\n",
              "      <td>725.000000</td>\n",
              "      <td>500.000000</td>\n",
              "      <td>3.000000</td>\n",
              "      <td>1.000000</td>\n",
              "      <td>900.000000</td>\n",
              "    </tr>\n",
              "    <tr>\n",
              "      <th>50%</th>\n",
              "      <td>1.000000</td>\n",
              "      <td>1.000000</td>\n",
              "      <td>610.000000</td>\n",
              "      <td>3.000000</td>\n",
              "      <td>420.000000</td>\n",
              "      <td>2.000000</td>\n",
              "      <td>2.000000</td>\n",
              "      <td>3.000000</td>\n",
              "      <td>2.000000</td>\n",
              "      <td>1.000000</td>\n",
              "      <td>...</td>\n",
              "      <td>3.000000</td>\n",
              "      <td>3.000000</td>\n",
              "      <td>1.000000</td>\n",
              "      <td>1.000000</td>\n",
              "      <td>4.000000</td>\n",
              "      <td>940.000000</td>\n",
              "      <td>500.000000</td>\n",
              "      <td>4.000000</td>\n",
              "      <td>1.000000</td>\n",
              "      <td>1315.000000</td>\n",
              "    </tr>\n",
              "    <tr>\n",
              "      <th>75%</th>\n",
              "      <td>2.000000</td>\n",
              "      <td>1.000000</td>\n",
              "      <td>720.000000</td>\n",
              "      <td>3.000000</td>\n",
              "      <td>420.000000</td>\n",
              "      <td>2.000000</td>\n",
              "      <td>5.000000</td>\n",
              "      <td>3.000000</td>\n",
              "      <td>3.000000</td>\n",
              "      <td>2.000000</td>\n",
              "      <td>...</td>\n",
              "      <td>4.000000</td>\n",
              "      <td>4.000000</td>\n",
              "      <td>1.000000</td>\n",
              "      <td>2.000000</td>\n",
              "      <td>5.000000</td>\n",
              "      <td>1165.000000</td>\n",
              "      <td>690.000000</td>\n",
              "      <td>5.000000</td>\n",
              "      <td>2.000000</td>\n",
              "      <td>1315.000000</td>\n",
              "    </tr>\n",
              "    <tr>\n",
              "      <th>max</th>\n",
              "      <td>2.000000</td>\n",
              "      <td>2.000000</td>\n",
              "      <td>720.000000</td>\n",
              "      <td>4.000000</td>\n",
              "      <td>980.000000</td>\n",
              "      <td>2.000000</td>\n",
              "      <td>9.000000</td>\n",
              "      <td>5.000000</td>\n",
              "      <td>9.000000</td>\n",
              "      <td>6.000000</td>\n",
              "      <td>...</td>\n",
              "      <td>5.000000</td>\n",
              "      <td>6.000000</td>\n",
              "      <td>2.000000</td>\n",
              "      <td>2.000000</td>\n",
              "      <td>5.000000</td>\n",
              "      <td>1165.000000</td>\n",
              "      <td>850.000000</td>\n",
              "      <td>5.000000</td>\n",
              "      <td>2.000000</td>\n",
              "      <td>1315.000000</td>\n",
              "    </tr>\n",
              "  </tbody>\n",
              "</table>\n",
              "<p>8 rows × 47 columns</p>\n",
              "</div>\n",
              "      <button class=\"colab-df-convert\" onclick=\"convertToInteractive('df-f91103b3-8ce3-4db1-9b0a-027706c5227f')\"\n",
              "              title=\"Convert this dataframe to an interactive table.\"\n",
              "              style=\"display:none;\">\n",
              "        \n",
              "  <svg xmlns=\"http://www.w3.org/2000/svg\" height=\"24px\"viewBox=\"0 0 24 24\"\n",
              "       width=\"24px\">\n",
              "    <path d=\"M0 0h24v24H0V0z\" fill=\"none\"/>\n",
              "    <path d=\"M18.56 5.44l.94 2.06.94-2.06 2.06-.94-2.06-.94-.94-2.06-.94 2.06-2.06.94zm-11 1L8.5 8.5l.94-2.06 2.06-.94-2.06-.94L8.5 2.5l-.94 2.06-2.06.94zm10 10l.94 2.06.94-2.06 2.06-.94-2.06-.94-.94-2.06-.94 2.06-2.06.94z\"/><path d=\"M17.41 7.96l-1.37-1.37c-.4-.4-.92-.59-1.43-.59-.52 0-1.04.2-1.43.59L10.3 9.45l-7.72 7.72c-.78.78-.78 2.05 0 2.83L4 21.41c.39.39.9.59 1.41.59.51 0 1.02-.2 1.41-.59l7.78-7.78 2.81-2.81c.8-.78.8-2.07 0-2.86zM5.41 20L4 18.59l7.72-7.72 1.47 1.35L5.41 20z\"/>\n",
              "  </svg>\n",
              "      </button>\n",
              "      \n",
              "  <style>\n",
              "    .colab-df-container {\n",
              "      display:flex;\n",
              "      flex-wrap:wrap;\n",
              "      gap: 12px;\n",
              "    }\n",
              "\n",
              "    .colab-df-convert {\n",
              "      background-color: #E8F0FE;\n",
              "      border: none;\n",
              "      border-radius: 50%;\n",
              "      cursor: pointer;\n",
              "      display: none;\n",
              "      fill: #1967D2;\n",
              "      height: 32px;\n",
              "      padding: 0 0 0 0;\n",
              "      width: 32px;\n",
              "    }\n",
              "\n",
              "    .colab-df-convert:hover {\n",
              "      background-color: #E2EBFA;\n",
              "      box-shadow: 0px 1px 2px rgba(60, 64, 67, 0.3), 0px 1px 3px 1px rgba(60, 64, 67, 0.15);\n",
              "      fill: #174EA6;\n",
              "    }\n",
              "\n",
              "    [theme=dark] .colab-df-convert {\n",
              "      background-color: #3B4455;\n",
              "      fill: #D2E3FC;\n",
              "    }\n",
              "\n",
              "    [theme=dark] .colab-df-convert:hover {\n",
              "      background-color: #434B5C;\n",
              "      box-shadow: 0px 1px 3px 1px rgba(0, 0, 0, 0.15);\n",
              "      filter: drop-shadow(0px 1px 2px rgba(0, 0, 0, 0.3));\n",
              "      fill: #FFFFFF;\n",
              "    }\n",
              "  </style>\n",
              "\n",
              "      <script>\n",
              "        const buttonEl =\n",
              "          document.querySelector('#df-f91103b3-8ce3-4db1-9b0a-027706c5227f button.colab-df-convert');\n",
              "        buttonEl.style.display =\n",
              "          google.colab.kernel.accessAllowed ? 'block' : 'none';\n",
              "\n",
              "        async function convertToInteractive(key) {\n",
              "          const element = document.querySelector('#df-f91103b3-8ce3-4db1-9b0a-027706c5227f');\n",
              "          const dataTable =\n",
              "            await google.colab.kernel.invokeFunction('convertToInteractive',\n",
              "                                                     [key], {});\n",
              "          if (!dataTable) return;\n",
              "\n",
              "          const docLinkHtml = 'Like what you see? Visit the ' +\n",
              "            '<a target=\"_blank\" href=https://colab.research.google.com/notebooks/data_table.ipynb>data table notebook</a>'\n",
              "            + ' to learn more about interactive tables.';\n",
              "          element.innerHTML = '';\n",
              "          dataTable['output_type'] = 'display_data';\n",
              "          await google.colab.output.renderOutput(dataTable, element);\n",
              "          const docLink = document.createElement('div');\n",
              "          docLink.innerHTML = docLinkHtml;\n",
              "          element.appendChild(docLink);\n",
              "        }\n",
              "      </script>\n",
              "    </div>\n",
              "  </div>\n",
              "  "
            ]
          },
          "metadata": {},
          "execution_count": 101
        }
      ]
    },
    {
      "cell_type": "markdown",
      "source": [
        "`Describe()` Function displays the summary statistics for all the columns that has numeric data. Over here if we look closely `GPA` column is missing in the summary statistics which means that either the data type is  not properly or it may have some another type of data mixed into the whole column. In order to confirm what kind of data to we have in `GPA` let's check out the the whole column. I will use `value_counts()` which counts the uniques values."
      ],
      "metadata": {
        "id": "7cYzMTepcQKv"
      }
    },
    {
      "cell_type": "code",
      "source": [
        "df['GPA'].value_counts()"
      ],
      "metadata": {
        "colab": {
          "base_uri": "https://localhost:8080/"
        },
        "id": "kYRObrJU2wZW",
        "outputId": "4200ac25-dc3a-4bbe-b507-e95b31785044"
      },
      "execution_count": 102,
      "outputs": [
        {
          "output_type": "execute_result",
          "data": {
            "text/plain": [
              "3.5           10\n",
              "3             10\n",
              "3.3            9\n",
              "3.2            9\n",
              "3.7            8\n",
              "3.4            7\n",
              "3.6            7\n",
              "3.8            6\n",
              "2.8            4\n",
              "3.9            4\n",
              "4              3\n",
              "3.1            2\n",
              "3.68           1\n",
              "3.92           1\n",
              "2.6            1\n",
              "3.83           1\n",
              "3.75           1\n",
              "2.4            1\n",
              "Unknown        1\n",
              "3.73           1\n",
              "3.77           1\n",
              "3.63           1\n",
              "3.79 bitch     1\n",
              "3.89           1\n",
              "3.67           1\n",
              "Personal       1\n",
              "3.35           1\n",
              "3.605          1\n",
              "2.9            1\n",
              "3.654          1\n",
              "3.65           1\n",
              "3.904          1\n",
              "2.25           1\n",
              "3.882          1\n",
              "Name: GPA, dtype: int64"
            ]
          },
          "metadata": {},
          "execution_count": 102
        }
      ]
    },
    {
      "cell_type": "markdown",
      "source": [
        "Now we  can see that there are some unwanted words in the column so we get of those to make our data set even more cleaner."
      ],
      "metadata": {
        "id": "Xwo5ksS8gDJI"
      }
    },
    {
      "cell_type": "code",
      "source": [
        "df.dropna(subset=['GPA'],inplace=True)\n",
        "df['GPA_new'] = df['GPA'].str.replace(\".\",\"\")\n",
        "df = df[~df['GPA_new'].str.isdigit() == False]\n",
        "df['GPA'] = df['GPA'].astype(float)\n",
        "df.drop('GPA_new',axis=1,inplace=True)"
      ],
      "metadata": {
        "colab": {
          "base_uri": "https://localhost:8080/"
        },
        "id": "GO9txULYiQx7",
        "outputId": "a7435d59-9969-4cce-b62d-b2a306c83100"
      },
      "execution_count": 103,
      "outputs": [
        {
          "output_type": "stream",
          "name": "stderr",
          "text": [
            "<ipython-input-103-dfa58d7c6482>:2: FutureWarning: The default value of regex will change from True to False in a future version. In addition, single character regular expressions will *not* be treated as literal strings when regex=True.\n",
            "  df['GPA_new'] = df['GPA'].str.replace(\".\",\"\")\n",
            "<ipython-input-103-dfa58d7c6482>:4: SettingWithCopyWarning: \n",
            "A value is trying to be set on a copy of a slice from a DataFrame.\n",
            "Try using .loc[row_indexer,col_indexer] = value instead\n",
            "\n",
            "See the caveats in the documentation: https://pandas.pydata.org/pandas-docs/stable/user_guide/indexing.html#returning-a-view-versus-a-copy\n",
            "  df['GPA'] = df['GPA'].astype(float)\n",
            "<ipython-input-103-dfa58d7c6482>:5: SettingWithCopyWarning: \n",
            "A value is trying to be set on a copy of a slice from a DataFrame\n",
            "\n",
            "See the caveats in the documentation: https://pandas.pydata.org/pandas-docs/stable/user_guide/indexing.html#returning-a-view-versus-a-copy\n",
            "  df.drop('GPA_new',axis=1,inplace=True)\n"
          ]
        }
      ]
    },
    {
      "cell_type": "code",
      "source": [
        "df.head()"
      ],
      "metadata": {
        "colab": {
          "base_uri": "https://localhost:8080/",
          "height": 438
        },
        "id": "SWICKAEwi3WS",
        "outputId": "b4384cf4-2ce8-4f36-9759-5fc983bb9a6d"
      },
      "execution_count": 104,
      "outputs": [
        {
          "output_type": "execute_result",
          "data": {
            "text/plain": [
              "     GPA  Gender  breakfast  calories_chicken  calories_day  calories_scone  \\\n",
              "0  2.400       2          1               430           1.0           315.0   \n",
              "1  3.654       1          1               610           3.0           420.0   \n",
              "2  3.300       1          1               720           4.0           420.0   \n",
              "3  3.200       1          1               430           3.0           420.0   \n",
              "4  3.500       1          1               720           2.0           420.0   \n",
              "\n",
              "   coffee                      comfort_food        comfort_food_reasons  \\\n",
              "0       1                              none       we dont have comfort    \n",
              "1       2       chocolate, chips, ice cream        Stress, bored, anger   \n",
              "2       2   frozen yogurt, pizza, fast food             stress, sadness   \n",
              "3       2  Pizza, Mac and cheese, ice cream                     Boredom   \n",
              "4       2      Ice cream, chocolate, chips   Stress, boredom, cravings    \n",
              "\n",
              "   comfort_food_reasons_coded  ...  soup  sports  thai_food tortilla_calories  \\\n",
              "0                         9.0  ...   1.0     1.0          1            1165.0   \n",
              "1                         1.0  ...   1.0     1.0          2             725.0   \n",
              "2                         1.0  ...   1.0     2.0          5            1165.0   \n",
              "3                         2.0  ...   1.0     2.0          5             725.0   \n",
              "4                         1.0  ...   1.0     1.0          4             940.0   \n",
              "\n",
              "   turkey_calories  type_sports veggies_day  vitamins  waffle_calories  \\\n",
              "0              345   car racing           5         1             1315   \n",
              "1              690  Basketball            4         2              900   \n",
              "2              500         none           5         1              900   \n",
              "3              690      Nothing           3         1             1315   \n",
              "4              500     Softball           4         2              760   \n",
              "\n",
              "                     weight  \n",
              "0                       187  \n",
              "1                       155  \n",
              "2  I'm not answering this.   \n",
              "3             Not sure, 240  \n",
              "4                       190  \n",
              "\n",
              "[5 rows x 61 columns]"
            ],
            "text/html": [
              "\n",
              "  <div id=\"df-e631b2a0-6d40-4cb3-8aa3-91b8cc324c9c\">\n",
              "    <div class=\"colab-df-container\">\n",
              "      <div>\n",
              "<style scoped>\n",
              "    .dataframe tbody tr th:only-of-type {\n",
              "        vertical-align: middle;\n",
              "    }\n",
              "\n",
              "    .dataframe tbody tr th {\n",
              "        vertical-align: top;\n",
              "    }\n",
              "\n",
              "    .dataframe thead th {\n",
              "        text-align: right;\n",
              "    }\n",
              "</style>\n",
              "<table border=\"1\" class=\"dataframe\">\n",
              "  <thead>\n",
              "    <tr style=\"text-align: right;\">\n",
              "      <th></th>\n",
              "      <th>GPA</th>\n",
              "      <th>Gender</th>\n",
              "      <th>breakfast</th>\n",
              "      <th>calories_chicken</th>\n",
              "      <th>calories_day</th>\n",
              "      <th>calories_scone</th>\n",
              "      <th>coffee</th>\n",
              "      <th>comfort_food</th>\n",
              "      <th>comfort_food_reasons</th>\n",
              "      <th>comfort_food_reasons_coded</th>\n",
              "      <th>...</th>\n",
              "      <th>soup</th>\n",
              "      <th>sports</th>\n",
              "      <th>thai_food</th>\n",
              "      <th>tortilla_calories</th>\n",
              "      <th>turkey_calories</th>\n",
              "      <th>type_sports</th>\n",
              "      <th>veggies_day</th>\n",
              "      <th>vitamins</th>\n",
              "      <th>waffle_calories</th>\n",
              "      <th>weight</th>\n",
              "    </tr>\n",
              "  </thead>\n",
              "  <tbody>\n",
              "    <tr>\n",
              "      <th>0</th>\n",
              "      <td>2.400</td>\n",
              "      <td>2</td>\n",
              "      <td>1</td>\n",
              "      <td>430</td>\n",
              "      <td>1.0</td>\n",
              "      <td>315.0</td>\n",
              "      <td>1</td>\n",
              "      <td>none</td>\n",
              "      <td>we dont have comfort</td>\n",
              "      <td>9.0</td>\n",
              "      <td>...</td>\n",
              "      <td>1.0</td>\n",
              "      <td>1.0</td>\n",
              "      <td>1</td>\n",
              "      <td>1165.0</td>\n",
              "      <td>345</td>\n",
              "      <td>car racing</td>\n",
              "      <td>5</td>\n",
              "      <td>1</td>\n",
              "      <td>1315</td>\n",
              "      <td>187</td>\n",
              "    </tr>\n",
              "    <tr>\n",
              "      <th>1</th>\n",
              "      <td>3.654</td>\n",
              "      <td>1</td>\n",
              "      <td>1</td>\n",
              "      <td>610</td>\n",
              "      <td>3.0</td>\n",
              "      <td>420.0</td>\n",
              "      <td>2</td>\n",
              "      <td>chocolate, chips, ice cream</td>\n",
              "      <td>Stress, bored, anger</td>\n",
              "      <td>1.0</td>\n",
              "      <td>...</td>\n",
              "      <td>1.0</td>\n",
              "      <td>1.0</td>\n",
              "      <td>2</td>\n",
              "      <td>725.0</td>\n",
              "      <td>690</td>\n",
              "      <td>Basketball</td>\n",
              "      <td>4</td>\n",
              "      <td>2</td>\n",
              "      <td>900</td>\n",
              "      <td>155</td>\n",
              "    </tr>\n",
              "    <tr>\n",
              "      <th>2</th>\n",
              "      <td>3.300</td>\n",
              "      <td>1</td>\n",
              "      <td>1</td>\n",
              "      <td>720</td>\n",
              "      <td>4.0</td>\n",
              "      <td>420.0</td>\n",
              "      <td>2</td>\n",
              "      <td>frozen yogurt, pizza, fast food</td>\n",
              "      <td>stress, sadness</td>\n",
              "      <td>1.0</td>\n",
              "      <td>...</td>\n",
              "      <td>1.0</td>\n",
              "      <td>2.0</td>\n",
              "      <td>5</td>\n",
              "      <td>1165.0</td>\n",
              "      <td>500</td>\n",
              "      <td>none</td>\n",
              "      <td>5</td>\n",
              "      <td>1</td>\n",
              "      <td>900</td>\n",
              "      <td>I'm not answering this.</td>\n",
              "    </tr>\n",
              "    <tr>\n",
              "      <th>3</th>\n",
              "      <td>3.200</td>\n",
              "      <td>1</td>\n",
              "      <td>1</td>\n",
              "      <td>430</td>\n",
              "      <td>3.0</td>\n",
              "      <td>420.0</td>\n",
              "      <td>2</td>\n",
              "      <td>Pizza, Mac and cheese, ice cream</td>\n",
              "      <td>Boredom</td>\n",
              "      <td>2.0</td>\n",
              "      <td>...</td>\n",
              "      <td>1.0</td>\n",
              "      <td>2.0</td>\n",
              "      <td>5</td>\n",
              "      <td>725.0</td>\n",
              "      <td>690</td>\n",
              "      <td>Nothing</td>\n",
              "      <td>3</td>\n",
              "      <td>1</td>\n",
              "      <td>1315</td>\n",
              "      <td>Not sure, 240</td>\n",
              "    </tr>\n",
              "    <tr>\n",
              "      <th>4</th>\n",
              "      <td>3.500</td>\n",
              "      <td>1</td>\n",
              "      <td>1</td>\n",
              "      <td>720</td>\n",
              "      <td>2.0</td>\n",
              "      <td>420.0</td>\n",
              "      <td>2</td>\n",
              "      <td>Ice cream, chocolate, chips</td>\n",
              "      <td>Stress, boredom, cravings</td>\n",
              "      <td>1.0</td>\n",
              "      <td>...</td>\n",
              "      <td>1.0</td>\n",
              "      <td>1.0</td>\n",
              "      <td>4</td>\n",
              "      <td>940.0</td>\n",
              "      <td>500</td>\n",
              "      <td>Softball</td>\n",
              "      <td>4</td>\n",
              "      <td>2</td>\n",
              "      <td>760</td>\n",
              "      <td>190</td>\n",
              "    </tr>\n",
              "  </tbody>\n",
              "</table>\n",
              "<p>5 rows × 61 columns</p>\n",
              "</div>\n",
              "      <button class=\"colab-df-convert\" onclick=\"convertToInteractive('df-e631b2a0-6d40-4cb3-8aa3-91b8cc324c9c')\"\n",
              "              title=\"Convert this dataframe to an interactive table.\"\n",
              "              style=\"display:none;\">\n",
              "        \n",
              "  <svg xmlns=\"http://www.w3.org/2000/svg\" height=\"24px\"viewBox=\"0 0 24 24\"\n",
              "       width=\"24px\">\n",
              "    <path d=\"M0 0h24v24H0V0z\" fill=\"none\"/>\n",
              "    <path d=\"M18.56 5.44l.94 2.06.94-2.06 2.06-.94-2.06-.94-.94-2.06-.94 2.06-2.06.94zm-11 1L8.5 8.5l.94-2.06 2.06-.94-2.06-.94L8.5 2.5l-.94 2.06-2.06.94zm10 10l.94 2.06.94-2.06 2.06-.94-2.06-.94-.94-2.06-.94 2.06-2.06.94z\"/><path d=\"M17.41 7.96l-1.37-1.37c-.4-.4-.92-.59-1.43-.59-.52 0-1.04.2-1.43.59L10.3 9.45l-7.72 7.72c-.78.78-.78 2.05 0 2.83L4 21.41c.39.39.9.59 1.41.59.51 0 1.02-.2 1.41-.59l7.78-7.78 2.81-2.81c.8-.78.8-2.07 0-2.86zM5.41 20L4 18.59l7.72-7.72 1.47 1.35L5.41 20z\"/>\n",
              "  </svg>\n",
              "      </button>\n",
              "      \n",
              "  <style>\n",
              "    .colab-df-container {\n",
              "      display:flex;\n",
              "      flex-wrap:wrap;\n",
              "      gap: 12px;\n",
              "    }\n",
              "\n",
              "    .colab-df-convert {\n",
              "      background-color: #E8F0FE;\n",
              "      border: none;\n",
              "      border-radius: 50%;\n",
              "      cursor: pointer;\n",
              "      display: none;\n",
              "      fill: #1967D2;\n",
              "      height: 32px;\n",
              "      padding: 0 0 0 0;\n",
              "      width: 32px;\n",
              "    }\n",
              "\n",
              "    .colab-df-convert:hover {\n",
              "      background-color: #E2EBFA;\n",
              "      box-shadow: 0px 1px 2px rgba(60, 64, 67, 0.3), 0px 1px 3px 1px rgba(60, 64, 67, 0.15);\n",
              "      fill: #174EA6;\n",
              "    }\n",
              "\n",
              "    [theme=dark] .colab-df-convert {\n",
              "      background-color: #3B4455;\n",
              "      fill: #D2E3FC;\n",
              "    }\n",
              "\n",
              "    [theme=dark] .colab-df-convert:hover {\n",
              "      background-color: #434B5C;\n",
              "      box-shadow: 0px 1px 3px 1px rgba(0, 0, 0, 0.15);\n",
              "      filter: drop-shadow(0px 1px 2px rgba(0, 0, 0, 0.3));\n",
              "      fill: #FFFFFF;\n",
              "    }\n",
              "  </style>\n",
              "\n",
              "      <script>\n",
              "        const buttonEl =\n",
              "          document.querySelector('#df-e631b2a0-6d40-4cb3-8aa3-91b8cc324c9c button.colab-df-convert');\n",
              "        buttonEl.style.display =\n",
              "          google.colab.kernel.accessAllowed ? 'block' : 'none';\n",
              "\n",
              "        async function convertToInteractive(key) {\n",
              "          const element = document.querySelector('#df-e631b2a0-6d40-4cb3-8aa3-91b8cc324c9c');\n",
              "          const dataTable =\n",
              "            await google.colab.kernel.invokeFunction('convertToInteractive',\n",
              "                                                     [key], {});\n",
              "          if (!dataTable) return;\n",
              "\n",
              "          const docLinkHtml = 'Like what you see? Visit the ' +\n",
              "            '<a target=\"_blank\" href=https://colab.research.google.com/notebooks/data_table.ipynb>data table notebook</a>'\n",
              "            + ' to learn more about interactive tables.';\n",
              "          element.innerHTML = '';\n",
              "          dataTable['output_type'] = 'display_data';\n",
              "          await google.colab.output.renderOutput(dataTable, element);\n",
              "          const docLink = document.createElement('div');\n",
              "          docLink.innerHTML = docLinkHtml;\n",
              "          element.appendChild(docLink);\n",
              "        }\n",
              "      </script>\n",
              "    </div>\n",
              "  </div>\n",
              "  "
            ]
          },
          "metadata": {},
          "execution_count": 104
        }
      ]
    },
    {
      "cell_type": "markdown",
      "source": [
        "We can see that the data frame looks fine. Let's check out the shape of data frame. We are expecting to loose a few more rows"
      ],
      "metadata": {
        "id": "-zY-YTA_jcwm"
      }
    },
    {
      "cell_type": "code",
      "source": [
        "df.shape"
      ],
      "metadata": {
        "colab": {
          "base_uri": "https://localhost:8080/"
        },
        "id": "EeAfHvF3kFwg",
        "outputId": "0e723db0-ef4a-4ba8-c35b-3575913fa6ee"
      },
      "execution_count": 105,
      "outputs": [
        {
          "output_type": "execute_result",
          "data": {
            "text/plain": [
              "(98, 61)"
            ]
          },
          "metadata": {},
          "execution_count": 105
        }
      ]
    },
    {
      "cell_type": "markdown",
      "source": [
        "Similarly, we can check the remaining columns. I will comment the columns out which does not have any problem with the values and include those which does."
      ],
      "metadata": {
        "id": "Pd9PD4BikyTS"
      }
    },
    {
      "cell_type": "code",
      "source": [
        "df['Gender'].value_counts()"
      ],
      "metadata": {
        "colab": {
          "base_uri": "https://localhost:8080/"
        },
        "id": "7mv0dh43lE-_",
        "outputId": "58b4be7b-9172-4126-dc41-3d8623a59b84"
      },
      "execution_count": 106,
      "outputs": [
        {
          "output_type": "execute_result",
          "data": {
            "text/plain": [
              "1    61\n",
              "2    37\n",
              "Name: Gender, dtype: int64"
            ]
          },
          "metadata": {},
          "execution_count": 106
        }
      ]
    },
    {
      "cell_type": "code",
      "source": [
        "df['breakfast'].value_counts()"
      ],
      "metadata": {
        "colab": {
          "base_uri": "https://localhost:8080/"
        },
        "id": "zj2qA4nolIEY",
        "outputId": "c7fbda05-d553-4028-c90c-572ba3fb1473"
      },
      "execution_count": 107,
      "outputs": [
        {
          "output_type": "execute_result",
          "data": {
            "text/plain": [
              "1    88\n",
              "2    10\n",
              "Name: breakfast, dtype: int64"
            ]
          },
          "metadata": {},
          "execution_count": 107
        }
      ]
    },
    {
      "cell_type": "code",
      "source": [
        "df['calories_chicken'].value_counts()"
      ],
      "metadata": {
        "colab": {
          "base_uri": "https://localhost:8080/"
        },
        "id": "wDaSvRLTlKNp",
        "outputId": "30f0546c-7e4a-4f2b-e6b5-74288f0c9a05"
      },
      "execution_count": 108,
      "outputs": [
        {
          "output_type": "execute_result",
          "data": {
            "text/plain": [
              "610    49\n",
              "720    25\n",
              "430    19\n",
              "265     5\n",
              "Name: calories_chicken, dtype: int64"
            ]
          },
          "metadata": {},
          "execution_count": 108
        }
      ]
    },
    {
      "cell_type": "code",
      "source": [
        "df['calories_day'].value_counts()"
      ],
      "metadata": {
        "colab": {
          "base_uri": "https://localhost:8080/"
        },
        "id": "v6-S0ZHClMwG",
        "outputId": "2ffedcbc-16ad-4bfd-b87b-b3c8c1f9eddc"
      },
      "execution_count": 109,
      "outputs": [
        {
          "output_type": "execute_result",
          "data": {
            "text/plain": [
              "3.0    52\n",
              "4.0    19\n",
              "2.0    14\n",
              "1.0    13\n",
              "Name: calories_day, dtype: int64"
            ]
          },
          "metadata": {},
          "execution_count": 109
        }
      ]
    },
    {
      "cell_type": "code",
      "source": [
        "df['calories_scone'].value_counts()"
      ],
      "metadata": {
        "colab": {
          "base_uri": "https://localhost:8080/"
        },
        "id": "ZVtE2imf37X_",
        "outputId": "4e480d1c-8fec-4cd6-8aac-7f2b18e1e05f"
      },
      "execution_count": 110,
      "outputs": [
        {
          "output_type": "execute_result",
          "data": {
            "text/plain": [
              "420.0    69\n",
              "980.0    15\n",
              "315.0    14\n",
              "Name: calories_scone, dtype: int64"
            ]
          },
          "metadata": {},
          "execution_count": 110
        }
      ]
    },
    {
      "cell_type": "code",
      "source": [
        "df['coffee'].value_counts()"
      ],
      "metadata": {
        "id": "swg-onc28KQX",
        "colab": {
          "base_uri": "https://localhost:8080/"
        },
        "outputId": "3a4e0a50-58ac-402f-8a9c-fcc8a319f7a8"
      },
      "execution_count": 111,
      "outputs": [
        {
          "output_type": "execute_result",
          "data": {
            "text/plain": [
              "2    72\n",
              "1    26\n",
              "Name: coffee, dtype: int64"
            ]
          },
          "metadata": {},
          "execution_count": 111
        }
      ]
    },
    {
      "cell_type": "code",
      "source": [
        "df['comfort_food'].value_counts()"
      ],
      "metadata": {
        "id": "l_aT6UxH8Mok",
        "colab": {
          "base_uri": "https://localhost:8080/"
        },
        "outputId": "59a314ce-54a0-4a80-e204-989257414d6d"
      },
      "execution_count": 112,
      "outputs": [
        {
          "output_type": "execute_result",
          "data": {
            "text/plain": [
              "none                                                       1\n",
              "Macaroni and cheese, chicken noodle soup, pizza            1\n",
              "carrots, plantain chips, almonds, popcorn                  1\n",
              "pizza, pasta, mac and cheese                               1\n",
              "Chinese food, moes, sponge candy, homemade lasagne         1\n",
              "                                                          ..\n",
              "pizza, doughnuts, mcdonalds                                1\n",
              "mac n cheese, peanut butter and banana sandwich, omelet    1\n",
              "french fries, chips, ice cream                             1\n",
              "chips and dip, pepsi,                                      1\n",
              "Mac n Cheese, Lasagna, Pizza                               1\n",
              "Name: comfort_food, Length: 98, dtype: int64"
            ]
          },
          "metadata": {},
          "execution_count": 112
        }
      ]
    },
    {
      "cell_type": "code",
      "source": [
        "df['comfort_food_reasons'].value_counts()"
      ],
      "metadata": {
        "id": "-AleFkb-8ShO",
        "colab": {
          "base_uri": "https://localhost:8080/"
        },
        "outputId": "1f6319f4-126f-4c29-f57e-cad8c641ed8b"
      },
      "execution_count": 113,
      "outputs": [
        {
          "output_type": "execute_result",
          "data": {
            "text/plain": [
              "Boredom                                          3\n",
              "Boredom                                          3\n",
              "boredom                                          3\n",
              "boredom, sadness                                 2\n",
              "stress, boredom                                  2\n",
              "                                                ..\n",
              "Usually if I'm sad or depressed.                 1\n",
              "No reasons                                       1\n",
              "boredom, stress                                  1\n",
              "Stress                                           1\n",
              "happiness, they are some of my favorite foods    1\n",
              "Name: comfort_food_reasons, Length: 87, dtype: int64"
            ]
          },
          "metadata": {},
          "execution_count": 113
        }
      ]
    },
    {
      "cell_type": "code",
      "source": [
        "df['comfort_food_reasons_coded'].value_counts()"
      ],
      "metadata": {
        "id": "0REqqzJV8VBe",
        "colab": {
          "base_uri": "https://localhost:8080/"
        },
        "outputId": "aa762813-16dd-4a25-978f-a451782f55c5"
      },
      "execution_count": 114,
      "outputs": [
        {
          "output_type": "execute_result",
          "data": {
            "text/plain": [
              "2.0    36\n",
              "1.0    21\n",
              "9.0    19\n",
              "3.0    12\n",
              "7.0     3\n",
              "5.0     3\n",
              "4.0     2\n",
              "6.0     1\n",
              "8.0     1\n",
              "Name: comfort_food_reasons_coded, dtype: int64"
            ]
          },
          "metadata": {},
          "execution_count": 114
        }
      ]
    },
    {
      "cell_type": "code",
      "source": [
        "df['cook'].value_counts()"
      ],
      "metadata": {
        "id": "Mtk3imUC8XAf",
        "colab": {
          "base_uri": "https://localhost:8080/"
        },
        "outputId": "be85fe96-983a-4b4d-c7a2-f6c64d0a0cae"
      },
      "execution_count": 115,
      "outputs": [
        {
          "output_type": "execute_result",
          "data": {
            "text/plain": [
              "3.0    39\n",
              "2.0    28\n",
              "1.0    12\n",
              "4.0    12\n",
              "5.0     7\n",
              "Name: cook, dtype: int64"
            ]
          },
          "metadata": {},
          "execution_count": 115
        }
      ]
    },
    {
      "cell_type": "code",
      "source": [
        "df['cuisine'].value_counts()"
      ],
      "metadata": {
        "id": "eq96oeXn8wXU",
        "colab": {
          "base_uri": "https://localhost:8080/"
        },
        "outputId": "67be4e41-0a80-4e0c-8ccd-b0733b0f82b6"
      },
      "execution_count": 116,
      "outputs": [
        {
          "output_type": "execute_result",
          "data": {
            "text/plain": [
              "1.0    71\n",
              "6.0    14\n",
              "2.0     9\n",
              "4.0     2\n",
              "3.0     1\n",
              "5.0     1\n",
              "Name: cuisine, dtype: int64"
            ]
          },
          "metadata": {},
          "execution_count": 116
        }
      ]
    },
    {
      "cell_type": "code",
      "source": [
        "df['diet_current'].value_counts()"
      ],
      "metadata": {
        "id": "NyWvXb6k8yFO",
        "colab": {
          "base_uri": "https://localhost:8080/"
        },
        "outputId": "75a7d02f-9e99-4f32-e66e-e10eba0d50b9"
      },
      "execution_count": 117,
      "outputs": [
        {
          "output_type": "execute_result",
          "data": {
            "text/plain": [
              "eat good and exercise                                                                                                                                   1\n",
              "I eat very basic foods like pizza and pasta. I don't try many new things.                                                                               1\n",
              "i currently eat a lot of salad, but do not eat 3 times a day nor eat breakfast                                                                          1\n",
              "I try to eat healthy but sometimes drink soda pop and I enjoy desserts. harder to eat healthy when I am at school.                                      1\n",
              "Eat fruits and vegetables daily and with almost every meal. Diet mostly consists of meat as well.                                                       1\n",
              "                                                                                                                                                       ..\n",
              "I eat out more often then not. I try to make sure when I eat out it isn't fast food, but instead something healthy like Panera.                         1\n",
              "A lot of rice and veggies, eggs for breakfast, chicken is usually the only kind of meat I eat.                                                          1\n",
              "egan dining                                                                                                                                             1\n",
              "Diet consists of 3000-4000 calories a day well rounded from meats, vegetables, and fruit.                                                               1\n",
              "I try to eat as healthy as possible everyday.  I have fruit, yogurt and a protein shake everyday.  The other foods i eat vary on a day to day basis.    1\n",
              "Name: diet_current, Length: 98, dtype: int64"
            ]
          },
          "metadata": {},
          "execution_count": 117
        }
      ]
    },
    {
      "cell_type": "code",
      "source": [
        "df['diet_current_coded'].value_counts()"
      ],
      "metadata": {
        "id": "cUji6qW681Yd",
        "colab": {
          "base_uri": "https://localhost:8080/"
        },
        "outputId": "ddb082f4-ba4c-4c88-9f3f-8a300e975ee6"
      },
      "execution_count": 118,
      "outputs": [
        {
          "output_type": "execute_result",
          "data": {
            "text/plain": [
              "2    44\n",
              "1    42\n",
              "3    10\n",
              "4     2\n",
              "Name: diet_current_coded, dtype: int64"
            ]
          },
          "metadata": {},
          "execution_count": 118
        }
      ]
    },
    {
      "cell_type": "code",
      "source": [
        "df['drink'].value_counts()"
      ],
      "metadata": {
        "id": "QL15OjrT83W4",
        "colab": {
          "base_uri": "https://localhost:8080/"
        },
        "outputId": "24d3a643-77e0-44f0-a42d-575336cc2c11"
      },
      "execution_count": 119,
      "outputs": [
        {
          "output_type": "execute_result",
          "data": {
            "text/plain": [
              "2.0    54\n",
              "1.0    44\n",
              "Name: drink, dtype: int64"
            ]
          },
          "metadata": {},
          "execution_count": 119
        }
      ]
    },
    {
      "cell_type": "code",
      "source": [
        "df['eating_changes'].value_counts()"
      ],
      "metadata": {
        "colab": {
          "base_uri": "https://localhost:8080/"
        },
        "id": "cBngINTb85h8",
        "outputId": "8fd04199-5f6f-4b57-9f96-d671f5fcf4e4"
      },
      "execution_count": 120,
      "outputs": [
        {
          "output_type": "execute_result",
          "data": {
            "text/plain": [
              "eat faster                                                                                                         1\n",
              "Home cooked meals and a lot more difficult to have at college. It's typically quick, on the go foods.              1\n",
              "I have been eating healthier especially vegetables and proteinous food                                             1\n",
              "less healthy because of less options, money and time.                                                              1\n",
              "Less snacking                                                                                                      1\n",
              "                                                                                                                  ..\n",
              "I do not snack as often at school. I find that I'm always busy so sometimes I don't have a lot of time to eat.     1\n",
              "My diet is more limited just because of what I have time to make                                                   1\n",
              "poor                                                                                                               1\n",
              "none                                                                                                               1\n",
              "I don't eat as much on a daily basis since coming to college.                                                      1\n",
              "Name: eating_changes, Length: 98, dtype: int64"
            ]
          },
          "metadata": {},
          "execution_count": 120
        }
      ]
    },
    {
      "cell_type": "code",
      "source": [
        "df['eating_changes_coded'].value_counts()"
      ],
      "metadata": {
        "id": "437_kp8A879c",
        "colab": {
          "base_uri": "https://localhost:8080/"
        },
        "outputId": "68acd671-fdd6-43f7-846a-02176e9aa753"
      },
      "execution_count": 121,
      "outputs": [
        {
          "output_type": "execute_result",
          "data": {
            "text/plain": [
              "1    62\n",
              "2    27\n",
              "3     6\n",
              "4     3\n",
              "Name: eating_changes_coded, dtype: int64"
            ]
          },
          "metadata": {},
          "execution_count": 121
        }
      ]
    },
    {
      "cell_type": "code",
      "source": [
        "df['eating_changes_coded1'].value_counts()"
      ],
      "metadata": {
        "id": "S53UVKdn9Ab0",
        "colab": {
          "base_uri": "https://localhost:8080/"
        },
        "outputId": "dc450f93-aa1f-4233-e311-4e255c892ebc"
      },
      "execution_count": 122,
      "outputs": [
        {
          "output_type": "execute_result",
          "data": {
            "text/plain": [
              "3     37\n",
              "5     24\n",
              "2     13\n",
              "4      7\n",
              "8      4\n",
              "10     3\n",
              "11     3\n",
              "7      2\n",
              "1      1\n",
              "6      1\n",
              "9      1\n",
              "13     1\n",
              "12     1\n",
              "Name: eating_changes_coded1, dtype: int64"
            ]
          },
          "metadata": {},
          "execution_count": 122
        }
      ]
    },
    {
      "cell_type": "code",
      "source": [
        "df['eating_out'].value_counts()"
      ],
      "metadata": {
        "id": "3H1IpKRU9Epc",
        "colab": {
          "base_uri": "https://localhost:8080/"
        },
        "outputId": "8d2e2373-d0c7-481d-8e05-9a733b2cbe75"
      },
      "execution_count": 123,
      "outputs": [
        {
          "output_type": "execute_result",
          "data": {
            "text/plain": [
              "2    50\n",
              "3    19\n",
              "1    10\n",
              "5    10\n",
              "4     9\n",
              "Name: eating_out, dtype: int64"
            ]
          },
          "metadata": {},
          "execution_count": 123
        }
      ]
    },
    {
      "cell_type": "code",
      "source": [
        "df['employment'].value_counts()"
      ],
      "metadata": {
        "id": "C7hCNW-U9G7m",
        "colab": {
          "base_uri": "https://localhost:8080/"
        },
        "outputId": "604aa73e-9a40-43ab-8852-b0fb66c13bd9"
      },
      "execution_count": 124,
      "outputs": [
        {
          "output_type": "execute_result",
          "data": {
            "text/plain": [
              "2.0    48\n",
              "3.0    43\n",
              "4.0     5\n",
              "1.0     2\n",
              "Name: employment, dtype: int64"
            ]
          },
          "metadata": {},
          "execution_count": 124
        }
      ]
    },
    {
      "cell_type": "code",
      "source": [
        "df['ethnic_food'].value_counts()"
      ],
      "metadata": {
        "id": "baGR8GaJ9Jvd",
        "colab": {
          "base_uri": "https://localhost:8080/"
        },
        "outputId": "42822e44-0df4-4d3a-e274-7630cd55634c"
      },
      "execution_count": 125,
      "outputs": [
        {
          "output_type": "execute_result",
          "data": {
            "text/plain": [
              "5    33\n",
              "4    30\n",
              "2    17\n",
              "3    14\n",
              "1     4\n",
              "Name: ethnic_food, dtype: int64"
            ]
          },
          "metadata": {},
          "execution_count": 125
        }
      ]
    },
    {
      "cell_type": "code",
      "source": [
        "df['exercise'].value_counts()"
      ],
      "metadata": {
        "id": "a3YqU6Cw9KWl",
        "colab": {
          "base_uri": "https://localhost:8080/"
        },
        "outputId": "e0e68198-a9d5-4fff-e062-d54fadab3084"
      },
      "execution_count": 126,
      "outputs": [
        {
          "output_type": "execute_result",
          "data": {
            "text/plain": [
              "1.0    49\n",
              "2.0    32\n",
              "3.0     9\n",
              "5.0     8\n",
              "Name: exercise, dtype: int64"
            ]
          },
          "metadata": {},
          "execution_count": 126
        }
      ]
    },
    {
      "cell_type": "code",
      "source": [
        "df['father_education'].value_counts()"
      ],
      "metadata": {
        "id": "2adbPiRP9MHf",
        "colab": {
          "base_uri": "https://localhost:8080/"
        },
        "outputId": "e72459f5-352b-4c88-c5e4-f9aaebd20887"
      },
      "execution_count": 127,
      "outputs": [
        {
          "output_type": "execute_result",
          "data": {
            "text/plain": [
              "4.0    37\n",
              "2.0    25\n",
              "5.0    21\n",
              "3.0    12\n",
              "1.0     3\n",
              "Name: father_education, dtype: int64"
            ]
          },
          "metadata": {},
          "execution_count": 127
        }
      ]
    },
    {
      "cell_type": "code",
      "source": [
        "df['father_profession'].value_counts()"
      ],
      "metadata": {
        "id": "3M3Qr9H-9Oq4",
        "colab": {
          "base_uri": "https://localhost:8080/"
        },
        "outputId": "45a9e10a-c1ef-49af-e413-7693383d63b7"
      },
      "execution_count": 128,
      "outputs": [
        {
          "output_type": "execute_result",
          "data": {
            "text/plain": [
              "Dentist                              2\n",
              "IT                                   2\n",
              "Teacher                              2\n",
              "Construction                         2\n",
              "business owner                       2\n",
              "                                    ..\n",
              "Corporate Manager                    1\n",
              "Biohemical Waste Elimination         1\n",
              "Optometrist                          1\n",
              "Owns his own promotional company     1\n",
              "Store manager at Giant Eagle         1\n",
              "Name: father_profession, Length: 92, dtype: int64"
            ]
          },
          "metadata": {},
          "execution_count": 128
        }
      ]
    },
    {
      "cell_type": "code",
      "source": [
        "df['fav_cuisine'].value_counts()"
      ],
      "metadata": {
        "id": "AN6ld58T9Sbm",
        "colab": {
          "base_uri": "https://localhost:8080/"
        },
        "outputId": "253f3f15-343f-4697-cc2b-9e58288aec57"
      },
      "execution_count": 129,
      "outputs": [
        {
          "output_type": "execute_result",
          "data": {
            "text/plain": [
              "Italian                                     16\n",
              "Italian                                     14\n",
              "italian                                      6\n",
              "Mexican                                      4\n",
              "American                                     3\n",
              "Chinese                                      3\n",
              "American                                     3\n",
              "Chinese                                      2\n",
              "Asian                                        2\n",
              "Mexican                                      2\n",
              "italian                                      2\n",
              "Thai                                         2\n",
              "Korean                                       2\n",
              "mac and cheese                               1\n",
              "Vietnamese cuisine                           1\n",
              "american                                     1\n",
              "Japanese                                     1\n",
              "I do not like cuisine                        1\n",
              "Mexican cuisine                              1\n",
              "Asian                                        1\n",
              "Chinese food                                 1\n",
              "Indian food                                  1\n",
              "lebanese or greek                            1\n",
              "Authentic Chinese and Vietnamese food        1\n",
              "italian and chinese                          1\n",
              "I really love italian food and thai food     1\n",
              "Chinese cuisine (General Tso's)              1\n",
              "Nepali                                       1\n",
              "Barbecue                                     1\n",
              "Arabic cuisine                               1\n",
              "Italian or Chinese                           1\n",
              "Wraps                                        1\n",
              "Chicken                                      1\n",
              "Turkish                                      1\n",
              "African                                      1\n",
              "Anything american style.                     1\n",
              "Seafood                                      1\n",
              "Orange chicken and chow mani noodles         1\n",
              "Jamaican                                     1\n",
              "American or Italian                          1\n",
              "don't have one                               1\n",
              "All                                          1\n",
              "Italian food                                 1\n",
              "Italian/German                               1\n",
              "Indian food - samosas are amazing            1\n",
              "French                                       1\n",
              "American or Italian                          1\n",
              "Thai food                                    1\n",
              "Greek                                        1\n",
              "Indian                                       1\n",
              "Name: fav_cuisine, dtype: int64"
            ]
          },
          "metadata": {},
          "execution_count": 129
        }
      ]
    },
    {
      "cell_type": "code",
      "source": [
        "df['fav_cuisine_coded'].value_counts()"
      ],
      "metadata": {
        "id": "_Chh9si39V5k",
        "colab": {
          "base_uri": "https://localhost:8080/"
        },
        "outputId": "55c50f38-e93b-4ab0-b076-666ed84a4820"
      },
      "execution_count": 130,
      "outputs": [
        {
          "output_type": "execute_result",
          "data": {
            "text/plain": [
              "1    47\n",
              "4    20\n",
              "5    14\n",
              "2     7\n",
              "0     3\n",
              "8     3\n",
              "3     2\n",
              "6     1\n",
              "7     1\n",
              "Name: fav_cuisine_coded, dtype: int64"
            ]
          },
          "metadata": {},
          "execution_count": 130
        }
      ]
    },
    {
      "cell_type": "code",
      "source": [
        "df['fav_food'].value_counts()"
      ],
      "metadata": {
        "id": "t7hNatsN9YTt",
        "colab": {
          "base_uri": "https://localhost:8080/"
        },
        "outputId": "4e8e613a-d073-4ebc-dbc1-ad10254d1243"
      },
      "execution_count": 131,
      "outputs": [
        {
          "output_type": "execute_result",
          "data": {
            "text/plain": [
              "1.0    60\n",
              "3.0    32\n",
              "2.0     6\n",
              "Name: fav_food, dtype: int64"
            ]
          },
          "metadata": {},
          "execution_count": 131
        }
      ]
    },
    {
      "cell_type": "code",
      "source": [
        "df['food_childhood'].value_counts()"
      ],
      "metadata": {
        "id": "4Avh3PpJ9Y19",
        "colab": {
          "base_uri": "https://localhost:8080/"
        },
        "outputId": "b13dc09b-762b-4e25-cee6-617e55a1e014"
      },
      "execution_count": 132,
      "outputs": [
        {
          "output_type": "execute_result",
          "data": {
            "text/plain": [
              "Pizza                            3\n",
              "Mac and cheese                   2\n",
              "Steak                            2\n",
              "Spaghetti                        2\n",
              "Chicken                          2\n",
              "                                ..\n",
              "chicken parmesan                 1\n",
              "Pasta                            1\n",
              "pizza, pasta, grilled cheese     1\n",
              "chicken, pasta, stir fry         1\n",
              "pizza and spaghetti              1\n",
              "Name: food_childhood, Length: 92, dtype: int64"
            ]
          },
          "metadata": {},
          "execution_count": 132
        }
      ]
    },
    {
      "cell_type": "code",
      "source": [
        "df['fries'].value_counts()"
      ],
      "metadata": {
        "id": "nZoZz4b69avO",
        "colab": {
          "base_uri": "https://localhost:8080/"
        },
        "outputId": "44606cba-5389-4d45-c16a-f80abc5b323e"
      },
      "execution_count": 133,
      "outputs": [
        {
          "output_type": "execute_result",
          "data": {
            "text/plain": [
              "1    88\n",
              "2    10\n",
              "Name: fries, dtype: int64"
            ]
          },
          "metadata": {},
          "execution_count": 133
        }
      ]
    },
    {
      "cell_type": "code",
      "source": [
        "df['fruit_day'].value_counts()"
      ],
      "metadata": {
        "id": "nAkRPy5d9d7t",
        "colab": {
          "base_uri": "https://localhost:8080/"
        },
        "outputId": "71c062cd-7270-4126-ca7d-93027bb1ad61"
      },
      "execution_count": 134,
      "outputs": [
        {
          "output_type": "execute_result",
          "data": {
            "text/plain": [
              "5    56\n",
              "4    25\n",
              "3    13\n",
              "2     3\n",
              "1     1\n",
              "Name: fruit_day, dtype: int64"
            ]
          },
          "metadata": {},
          "execution_count": 134
        }
      ]
    },
    {
      "cell_type": "code",
      "source": [
        "df['grade_level'].value_counts()"
      ],
      "metadata": {
        "id": "zVvKSr7t9gif",
        "colab": {
          "base_uri": "https://localhost:8080/"
        },
        "outputId": "a7c10a65-10db-4cb6-87d1-94580a30e657"
      },
      "execution_count": 135,
      "outputs": [
        {
          "output_type": "execute_result",
          "data": {
            "text/plain": [
              "1    29\n",
              "2    28\n",
              "4    21\n",
              "3    20\n",
              "Name: grade_level, dtype: int64"
            ]
          },
          "metadata": {},
          "execution_count": 135
        }
      ]
    },
    {
      "cell_type": "code",
      "source": [
        "df['greek_food'].value_counts()"
      ],
      "metadata": {
        "id": "AJ0szfsz9ivc",
        "colab": {
          "base_uri": "https://localhost:8080/"
        },
        "outputId": "e27636ef-e8f0-4629-80ae-360c54289d31"
      },
      "execution_count": 136,
      "outputs": [
        {
          "output_type": "execute_result",
          "data": {
            "text/plain": [
              "5    31\n",
              "3    25\n",
              "4    20\n",
              "1    13\n",
              "2     9\n",
              "Name: greek_food, dtype: int64"
            ]
          },
          "metadata": {},
          "execution_count": 136
        }
      ]
    },
    {
      "cell_type": "code",
      "source": [
        "df['healthy_feeling'].value_counts()"
      ],
      "metadata": {
        "id": "l78UC3Fn9kb-",
        "colab": {
          "base_uri": "https://localhost:8080/"
        },
        "outputId": "f60748f4-a5e0-4d11-a301-4eae06c83c18"
      },
      "execution_count": 137,
      "outputs": [
        {
          "output_type": "execute_result",
          "data": {
            "text/plain": [
              "5     12\n",
              "7     12\n",
              "8     12\n",
              "4     11\n",
              "3     11\n",
              "2     10\n",
              "6     10\n",
              "9      9\n",
              "1      6\n",
              "10     5\n",
              "Name: healthy_feeling, dtype: int64"
            ]
          },
          "metadata": {},
          "execution_count": 137
        }
      ]
    },
    {
      "cell_type": "code",
      "source": [
        "df['healthy_meal'].value_counts()"
      ],
      "metadata": {
        "id": "hA63aMfj9mgc",
        "colab": {
          "base_uri": "https://localhost:8080/"
        },
        "outputId": "e30b05c1-acd9-4767-8f0d-d275e24d43c2"
      },
      "execution_count": 138,
      "outputs": [
        {
          "output_type": "execute_result",
          "data": {
            "text/plain": [
              "looks not oily                                                                                  1\n",
              "Very colorful and smaller portions of the unhealthy food with larger portions of vegetables     1\n",
              "Healthy meal for me is a food rich in protein, fiber, some sort of carbohydrates                1\n",
              "lots of variety and veggies                                                                     1\n",
              "Small portion of meat with majority fruits or vegetables                                        1\n",
              "                                                                                               ..\n",
              "a meal with a meat, vegetable, grain, and fruit                                                 1\n",
              "Some kind of protein, a vegetable, and a grain                                                  1\n",
              "a lot of greens                                                                                 1\n",
              "4-6 ounces chicken or fish, side of potatoes, and green beans                                   1\n",
              "A protein, a fruit, a starch, and a salad or some sort of vegetable.                            1\n",
              "Name: healthy_meal, Length: 98, dtype: int64"
            ]
          },
          "metadata": {},
          "execution_count": 138
        }
      ]
    },
    {
      "cell_type": "code",
      "source": [
        "df['ideal_diet'].value_counts()"
      ],
      "metadata": {
        "id": "uG3sk8Jm9ogM",
        "colab": {
          "base_uri": "https://localhost:8080/"
        },
        "outputId": "82b0d1f1-7016-4db5-8427-304ae1a1ffa1"
      },
      "execution_count": 139,
      "outputs": [
        {
          "output_type": "execute_result",
          "data": {
            "text/plain": [
              "being healthy                                                                                                        1\n",
              "Ideally I would eat more fruits and vegetables in my diet along with some junk food.                                 1\n",
              "it would be a vegetarian diet without any red meat                                                                   1\n",
              "Eating healthy with lots of water and natural foods.                                                                 1\n",
              "More organic food. Want to try and add more seafood into my diet.                                                    1\n",
              "                                                                                                                    ..\n",
              "I wish I had the time and energy to cook more at home on my own.                                                     1\n",
              "Pretty much what I eat now                                                                                           1\n",
              "healthy and protien                                                                                                  1\n",
              "diet of 1500-2000 calories of white meat, vegetables, and fruit that are all fresh and not processed                 1\n",
              "My ideal diet is the diet i am currently on.  The only thing i would change is a little bit less snack/junk food.    1\n",
              "Name: ideal_diet, Length: 98, dtype: int64"
            ]
          },
          "metadata": {},
          "execution_count": 139
        }
      ]
    },
    {
      "cell_type": "code",
      "source": [
        "df['ideal_diet_coded'].value_counts()"
      ],
      "metadata": {
        "id": "fGJLQ4a_9qac",
        "colab": {
          "base_uri": "https://localhost:8080/"
        },
        "outputId": "cb18f988-3bab-48a8-ed10-76966f15aa52"
      },
      "execution_count": 140,
      "outputs": [
        {
          "output_type": "execute_result",
          "data": {
            "text/plain": [
              "2    33\n",
              "7    13\n",
              "5    13\n",
              "3    11\n",
              "1    11\n",
              "6    10\n",
              "4     5\n",
              "8     2\n",
              "Name: ideal_diet_coded, dtype: int64"
            ]
          },
          "metadata": {},
          "execution_count": 140
        }
      ]
    },
    {
      "cell_type": "code",
      "source": [
        "df['income'].value_counts()"
      ],
      "metadata": {
        "id": "rIHue1lj9sII",
        "colab": {
          "base_uri": "https://localhost:8080/"
        },
        "outputId": "885d0503-1304-459a-f8f0-dc6848b4d8f0"
      },
      "execution_count": 141,
      "outputs": [
        {
          "output_type": "execute_result",
          "data": {
            "text/plain": [
              "6.0    37\n",
              "5.0    23\n",
              "4.0    18\n",
              "3.0    11\n",
              "1.0     5\n",
              "2.0     4\n",
              "Name: income, dtype: int64"
            ]
          },
          "metadata": {},
          "execution_count": 141
        }
      ]
    },
    {
      "cell_type": "code",
      "source": [
        "df['indian_food'].value_counts()"
      ],
      "metadata": {
        "id": "ZuexH0MA9uAk",
        "colab": {
          "base_uri": "https://localhost:8080/"
        },
        "outputId": "f94803e0-6b9e-45f0-d34a-8b36e02cebd2"
      },
      "execution_count": 142,
      "outputs": [
        {
          "output_type": "execute_result",
          "data": {
            "text/plain": [
              "5    28\n",
              "3    26\n",
              "1    20\n",
              "4    12\n",
              "2    12\n",
              "Name: indian_food, dtype: int64"
            ]
          },
          "metadata": {},
          "execution_count": 142
        }
      ]
    },
    {
      "cell_type": "code",
      "source": [
        "df['italian_food'].value_counts()"
      ],
      "metadata": {
        "id": "h-X9NzHC9v4M",
        "colab": {
          "base_uri": "https://localhost:8080/"
        },
        "outputId": "d42e4259-c782-47d2-a1b2-61b0f6493564"
      },
      "execution_count": 143,
      "outputs": [
        {
          "output_type": "execute_result",
          "data": {
            "text/plain": [
              "5    79\n",
              "4    13\n",
              "3     6\n",
              "Name: italian_food, dtype: int64"
            ]
          },
          "metadata": {},
          "execution_count": 143
        }
      ]
    },
    {
      "cell_type": "code",
      "source": [
        "df['life_rewarding'].value_counts()"
      ],
      "metadata": {
        "id": "Ia_hse6A9zIy",
        "colab": {
          "base_uri": "https://localhost:8080/"
        },
        "outputId": "7290f192-13a0-491a-c205-7681510390bb"
      },
      "execution_count": 144,
      "outputs": [
        {
          "output_type": "execute_result",
          "data": {
            "text/plain": [
              "1.0     17\n",
              "8.0     14\n",
              "2.0     11\n",
              "3.0     11\n",
              "9.0     10\n",
              "10.0     9\n",
              "7.0      8\n",
              "5.0      8\n",
              "4.0      6\n",
              "6.0      4\n",
              "Name: life_rewarding, dtype: int64"
            ]
          },
          "metadata": {},
          "execution_count": 144
        }
      ]
    },
    {
      "cell_type": "code",
      "source": [
        "df['marital_status'].value_counts()"
      ],
      "metadata": {
        "id": "FpUo206I91_q",
        "colab": {
          "base_uri": "https://localhost:8080/"
        },
        "outputId": "dc9dcf61-f158-42f2-b669-438b0835b61f"
      },
      "execution_count": 145,
      "outputs": [
        {
          "output_type": "execute_result",
          "data": {
            "text/plain": [
              "1.0    51\n",
              "2.0    47\n",
              "Name: marital_status, dtype: int64"
            ]
          },
          "metadata": {},
          "execution_count": 145
        }
      ]
    },
    {
      "cell_type": "code",
      "source": [
        "df['meals_dinner_friend'].value_counts()"
      ],
      "metadata": {
        "id": "CoK7aHwV950Y",
        "colab": {
          "base_uri": "https://localhost:8080/"
        },
        "outputId": "33356b41-2bda-4b37-b6c0-37980ae3e409"
      },
      "execution_count": 146,
      "outputs": [
        {
          "output_type": "execute_result",
          "data": {
            "text/plain": [
              "Chicken, Steak, Pasta                                     2\n",
              "rice, chicken,  soup                                      1\n",
              "Pasta, chicken, pizza                                     1\n",
              "Rice with vegetables, chicken with pasta, salad           1\n",
              "Pasta, pizza, and chicken                                 1\n",
              "                                                         ..\n",
              "spaghetti or pasta, shrimp fried rice, chicken            1\n",
              "Some kind of pasta, a chicken dish, some kind of salad    1\n",
              "pasta, lasagna, chicken                                   1\n",
              "Tomato soup, Steak, crab                                  1\n",
              "Pizza, Spaghetti, Baked Ziti                              1\n",
              "Name: meals_dinner_friend, Length: 97, dtype: int64"
            ]
          },
          "metadata": {},
          "execution_count": 146
        }
      ]
    },
    {
      "cell_type": "code",
      "source": [
        "df['mother_education'].value_counts()"
      ],
      "metadata": {
        "colab": {
          "base_uri": "https://localhost:8080/"
        },
        "id": "DSN9kbMA-AD8",
        "outputId": "4b05fbb3-81d2-4a06-c3f6-c591eb38043a"
      },
      "execution_count": 147,
      "outputs": [
        {
          "output_type": "execute_result",
          "data": {
            "text/plain": [
              "4.0    38\n",
              "2.0    23\n",
              "5.0    19\n",
              "3.0    15\n",
              "1.0     3\n",
              "Name: mother_education, dtype: int64"
            ]
          },
          "metadata": {},
          "execution_count": 147
        }
      ]
    },
    {
      "cell_type": "code",
      "source": [
        "df['mother_profession'].value_counts()"
      ],
      "metadata": {
        "id": "ES9mtnNc-Cqm",
        "colab": {
          "base_uri": "https://localhost:8080/"
        },
        "outputId": "2c173e7f-b54d-440b-882b-20e4b9e712b8"
      },
      "execution_count": 148,
      "outputs": [
        {
          "output_type": "execute_result",
          "data": {
            "text/plain": [
              "Teacher                                      3\n",
              "Nurse                                        2\n",
              "Banker                                       2\n",
              "Secretary                                    2\n",
              "unemployed                                   1\n",
              "                                            ..\n",
              "Works in retail                              1\n",
              "stylist                                      1\n",
              "management                                   1\n",
              "Strategic Planning and Programs Manager      1\n",
              "Receptionist for a medical supply company    1\n",
              "Name: mother_profession, Length: 93, dtype: int64"
            ]
          },
          "metadata": {},
          "execution_count": 148
        }
      ]
    },
    {
      "cell_type": "code",
      "source": [
        "df['nutritional_check'].value_counts()"
      ],
      "metadata": {
        "id": "UXgW3kzt-EwM",
        "colab": {
          "base_uri": "https://localhost:8080/"
        },
        "outputId": "3683e5d6-c10a-41f4-c898-a3965a5e6b91"
      },
      "execution_count": 149,
      "outputs": [
        {
          "output_type": "execute_result",
          "data": {
            "text/plain": [
              "4    33\n",
              "2    32\n",
              "3    15\n",
              "5    12\n",
              "1     6\n",
              "Name: nutritional_check, dtype: int64"
            ]
          },
          "metadata": {},
          "execution_count": 149
        }
      ]
    },
    {
      "cell_type": "code",
      "source": [
        "df['on_off_campus'].value_counts()"
      ],
      "metadata": {
        "id": "ElN8n1hv-Gd3",
        "colab": {
          "base_uri": "https://localhost:8080/"
        },
        "outputId": "554b4762-7081-40cd-b5a3-be6db878a36f"
      },
      "execution_count": 150,
      "outputs": [
        {
          "output_type": "execute_result",
          "data": {
            "text/plain": [
              "1.0    78\n",
              "2.0    15\n",
              "3.0     4\n",
              "4.0     1\n",
              "Name: on_off_campus, dtype: int64"
            ]
          },
          "metadata": {},
          "execution_count": 150
        }
      ]
    },
    {
      "cell_type": "code",
      "source": [
        "df['parents_cook'].value_counts()"
      ],
      "metadata": {
        "id": "ggBgnnJR-Ij8",
        "colab": {
          "base_uri": "https://localhost:8080/"
        },
        "outputId": "2000f7d9-fdea-471f-d433-c107599ba379"
      },
      "execution_count": 151,
      "outputs": [
        {
          "output_type": "execute_result",
          "data": {
            "text/plain": [
              "1    62\n",
              "2    29\n",
              "3     6\n",
              "5     1\n",
              "Name: parents_cook, dtype: int64"
            ]
          },
          "metadata": {},
          "execution_count": 151
        }
      ]
    },
    {
      "cell_type": "code",
      "source": [
        "df['pay_meal_out'].value_counts()"
      ],
      "metadata": {
        "id": "07vb6CDF-L5N",
        "colab": {
          "base_uri": "https://localhost:8080/"
        },
        "outputId": "3a35e8d9-014a-467f-b362-9b213f3589b9"
      },
      "execution_count": 152,
      "outputs": [
        {
          "output_type": "execute_result",
          "data": {
            "text/plain": [
              "3    57\n",
              "4    18\n",
              "2    11\n",
              "5     7\n",
              "6     5\n",
              "Name: pay_meal_out, dtype: int64"
            ]
          },
          "metadata": {},
          "execution_count": 152
        }
      ]
    },
    {
      "cell_type": "code",
      "source": [
        "df['persian_food'].value_counts()"
      ],
      "metadata": {
        "id": "TeN14RRJ-N-L",
        "colab": {
          "base_uri": "https://localhost:8080/"
        },
        "outputId": "0edca1e3-2f75-4b2e-d956-85b59589e785"
      },
      "execution_count": 153,
      "outputs": [
        {
          "output_type": "execute_result",
          "data": {
            "text/plain": [
              "3.0    24\n",
              "1.0    22\n",
              "2.0    21\n",
              "5.0    17\n",
              "4.0    14\n",
              "Name: persian_food, dtype: int64"
            ]
          },
          "metadata": {},
          "execution_count": 153
        }
      ]
    },
    {
      "cell_type": "code",
      "source": [
        "df['self_perception_weight'].value_counts()"
      ],
      "metadata": {
        "colab": {
          "base_uri": "https://localhost:8080/"
        },
        "id": "DMI7pHsN-R17",
        "outputId": "7be60db8-6bd0-45da-95bb-29cafb609bc0"
      },
      "execution_count": 154,
      "outputs": [
        {
          "output_type": "execute_result",
          "data": {
            "text/plain": [
              "3.0    35\n",
              "4.0    25\n",
              "2.0    24\n",
              "6.0     5\n",
              "1.0     5\n",
              "5.0     4\n",
              "Name: self_perception_weight, dtype: int64"
            ]
          },
          "metadata": {},
          "execution_count": 154
        }
      ]
    },
    {
      "cell_type": "code",
      "source": [
        "df['soup'].value_counts()"
      ],
      "metadata": {
        "id": "0kMxlpyw-_Bn",
        "colab": {
          "base_uri": "https://localhost:8080/"
        },
        "outputId": "86d65bdb-a733-494f-fd6a-ac421cec7381"
      },
      "execution_count": 155,
      "outputs": [
        {
          "output_type": "execute_result",
          "data": {
            "text/plain": [
              "1.0    78\n",
              "2.0    20\n",
              "Name: soup, dtype: int64"
            ]
          },
          "metadata": {},
          "execution_count": 155
        }
      ]
    },
    {
      "cell_type": "code",
      "source": [
        "df['sports'].value_counts()"
      ],
      "metadata": {
        "id": "5tiIvtAV_CZV",
        "colab": {
          "base_uri": "https://localhost:8080/"
        },
        "outputId": "c1614bd1-04d3-4c7a-a607-9a16b121dd9a"
      },
      "execution_count": 156,
      "outputs": [
        {
          "output_type": "execute_result",
          "data": {
            "text/plain": [
              "1.0    64\n",
              "2.0    34\n",
              "Name: sports, dtype: int64"
            ]
          },
          "metadata": {},
          "execution_count": 156
        }
      ]
    },
    {
      "cell_type": "code",
      "source": [
        "df['thai_food'].value_counts()"
      ],
      "metadata": {
        "id": "6i4l3YLB_Eq1",
        "colab": {
          "base_uri": "https://localhost:8080/"
        },
        "outputId": "15dae944-c8f1-4c35-b971-fcd296e1e884"
      },
      "execution_count": 157,
      "outputs": [
        {
          "output_type": "execute_result",
          "data": {
            "text/plain": [
              "5    29\n",
              "4    21\n",
              "3    19\n",
              "1    16\n",
              "2    13\n",
              "Name: thai_food, dtype: int64"
            ]
          },
          "metadata": {},
          "execution_count": 157
        }
      ]
    },
    {
      "cell_type": "code",
      "source": [
        "df['tortilla_calories'].value_counts()"
      ],
      "metadata": {
        "id": "ddHWeyW2_FP2",
        "colab": {
          "base_uri": "https://localhost:8080/"
        },
        "outputId": "ec833062-b05a-4ad0-966a-639abc1e250e"
      },
      "execution_count": 158,
      "outputs": [
        {
          "output_type": "execute_result",
          "data": {
            "text/plain": [
              "1165.0    37\n",
              "940.0     34\n",
              "725.0     17\n",
              "580.0     10\n",
              "Name: tortilla_calories, dtype: int64"
            ]
          },
          "metadata": {},
          "execution_count": 158
        }
      ]
    },
    {
      "cell_type": "code",
      "source": [
        "df['turkey_calories'].value_counts()"
      ],
      "metadata": {
        "id": "HJZvmAi9_HV1",
        "colab": {
          "base_uri": "https://localhost:8080/"
        },
        "outputId": "850d5ce6-e75e-4b3b-f217-ce6fcdf81ae8"
      },
      "execution_count": 159,
      "outputs": [
        {
          "output_type": "execute_result",
          "data": {
            "text/plain": [
              "500    39\n",
              "690    34\n",
              "345    17\n",
              "850     8\n",
              "Name: turkey_calories, dtype: int64"
            ]
          },
          "metadata": {},
          "execution_count": 159
        }
      ]
    },
    {
      "cell_type": "code",
      "source": [
        "df['type_sports'].value_counts()"
      ],
      "metadata": {
        "id": "lXiiO1x8_JFO",
        "colab": {
          "base_uri": "https://localhost:8080/"
        },
        "outputId": "cb820605-8c18-493b-f9ea-fc8775181874"
      },
      "execution_count": 160,
      "outputs": [
        {
          "output_type": "execute_result",
          "data": {
            "text/plain": [
              "Nothing                                                        11\n",
              "none                                                            7\n",
              "Hockey                                                          6\n",
              "softball                                                        4\n",
              "None                                                            4\n",
              "Soccer                                                          3\n",
              "Softball                                                        3\n",
              "soccer                                                          3\n",
              "Volleyball                                                      3\n",
              "Wrestling                                                       2\n",
              "Basketball                                                      2\n",
              "Lacrosse                                                        2\n",
              "Lacrosse                                                        2\n",
              "Ice hockey                                                      2\n",
              "field hockey                                                    2\n",
              "hockey                                                          2\n",
              "When I can, rarely though play pool, darts, and basketball.     1\n",
              "I danced in high school                                         1\n",
              "horse back riding                                               1\n",
              "competitive skiing                                              1\n",
              "Rowing, Running, and Cycling                                    1\n",
              "softball and basketball                                         1\n",
              "Tennis, Basketball                                              1\n",
              "Collegiate Water Polo                                           1\n",
              "None right now                                                  1\n",
              "volleyball, lacrosse                                            1\n",
              "hockey, soccer, golf                                            1\n",
              "none                                                            1\n",
              "Fotball                                                         1\n",
              " None                                                           1\n",
              "I used to play softball                                         1\n",
              "crew                                                            1\n",
              "volleyball                                                      1\n",
              "Football, Basketball, Volleyball, Golf                          1\n",
              "Rec Volleyball                                                  1\n",
              "car racing                                                      1\n",
              "Recreational Basketball, Equestrian Team                        1\n",
              "tennis                                                          1\n",
              "None.                                                           1\n",
              "Running                                                         1\n",
              "Soccer and basketball                                           1\n",
              "intramural volleyball                                           1\n",
              "dancing                                                         1\n",
              "tennis soccer gym                                               1\n",
              "Gaelic Football                                                 1\n",
              "none organized                                                  1\n",
              "Softball                                                        1\n",
              "Dancing                                                         1\n",
              "wrestling                                                       1\n",
              "soccer                                                          1\n",
              "wrestling & rowing                                              1\n",
              "Skiing                                                          1\n",
              "skiing                                                          1\n",
              "Water polo and running                                          1\n",
              "Ice Hockey                                                      1\n",
              "No, I don't play sport.                                         1\n",
              "Name: type_sports, dtype: int64"
            ]
          },
          "metadata": {},
          "execution_count": 160
        }
      ]
    },
    {
      "cell_type": "code",
      "source": [
        "df['veggies_day'].value_counts()"
      ],
      "metadata": {
        "id": "BhxpLUCP_NJl",
        "colab": {
          "base_uri": "https://localhost:8080/"
        },
        "outputId": "8dfd230b-b1ba-4990-d9bd-6e81893d76d0"
      },
      "execution_count": 161,
      "outputs": [
        {
          "output_type": "execute_result",
          "data": {
            "text/plain": [
              "5    43\n",
              "4    29\n",
              "3    15\n",
              "2     9\n",
              "1     2\n",
              "Name: veggies_day, dtype: int64"
            ]
          },
          "metadata": {},
          "execution_count": 161
        }
      ]
    },
    {
      "cell_type": "code",
      "source": [
        "df['vitamins'].value_counts()"
      ],
      "metadata": {
        "id": "1iyvaP_t_NxC",
        "colab": {
          "base_uri": "https://localhost:8080/"
        },
        "outputId": "fc374821-28b6-43c5-9fd0-fca79bfe6f4c"
      },
      "execution_count": 162,
      "outputs": [
        {
          "output_type": "execute_result",
          "data": {
            "text/plain": [
              "1    49\n",
              "2    49\n",
              "Name: vitamins, dtype: int64"
            ]
          },
          "metadata": {},
          "execution_count": 162
        }
      ]
    },
    {
      "cell_type": "code",
      "source": [
        "df['waffle_calories'].value_counts()"
      ],
      "metadata": {
        "id": "-aLSzejR_Pdo",
        "colab": {
          "base_uri": "https://localhost:8080/"
        },
        "outputId": "5931045a-4a42-4281-af76-3e37a92a0179"
      },
      "execution_count": 163,
      "outputs": [
        {
          "output_type": "execute_result",
          "data": {
            "text/plain": [
              "1315    48\n",
              "900     30\n",
              "760     19\n",
              "575      1\n",
              "Name: waffle_calories, dtype: int64"
            ]
          },
          "metadata": {},
          "execution_count": 163
        }
      ]
    },
    {
      "cell_type": "code",
      "source": [
        "df['weight'].value_counts()"
      ],
      "metadata": {
        "colab": {
          "base_uri": "https://localhost:8080/"
        },
        "id": "b8Krxy0f_SyP",
        "outputId": "f1b39a96-a4a7-4b34-f72d-c08dc525cfea"
      },
      "execution_count": 164,
      "outputs": [
        {
          "output_type": "execute_result",
          "data": {
            "text/plain": [
              "140                         7\n",
              "150                         6\n",
              "135                         6\n",
              "190                         5\n",
              "155                         5\n",
              "175                         5\n",
              "170                         5\n",
              "185                         5\n",
              "145                         4\n",
              "130                         4\n",
              "165                         4\n",
              "125                         4\n",
              "200                         3\n",
              "180                         3\n",
              "120                         3\n",
              "129                         2\n",
              "210                         2\n",
              "160                         2\n",
              "113                         2\n",
              "167                         2\n",
              "144 lbs                     1\n",
              "260                         1\n",
              "184                         1\n",
              "192                         1\n",
              "128                         1\n",
              "138                         1\n",
              "187                         1\n",
              "169                         1\n",
              "168                         1\n",
              "205                         1\n",
              "105                         1\n",
              "123                         1\n",
              "264                         1\n",
              "110                         1\n",
              "116                         1\n",
              "137                         1\n",
              "Not sure, 240               1\n",
              "I'm not answering this.     1\n",
              "156                         1\n",
              "Name: weight, dtype: int64"
            ]
          },
          "metadata": {},
          "execution_count": 164
        }
      ]
    },
    {
      "cell_type": "code",
      "source": [
        "df = df[df['weight'].str.isdigit()]"
      ],
      "metadata": {
        "id": "PpKa9mBv_Y3-"
      },
      "execution_count": 165,
      "outputs": []
    },
    {
      "cell_type": "code",
      "source": [
        "df['weight'].value_counts()"
      ],
      "metadata": {
        "id": "915VyQN5_l05",
        "outputId": "64f59ead-5885-40b5-a2f9-d2f867722b36",
        "colab": {
          "base_uri": "https://localhost:8080/"
        }
      },
      "execution_count": 166,
      "outputs": [
        {
          "output_type": "execute_result",
          "data": {
            "text/plain": [
              "140    7\n",
              "135    6\n",
              "150    6\n",
              "190    5\n",
              "155    5\n",
              "175    5\n",
              "185    5\n",
              "170    5\n",
              "165    4\n",
              "125    4\n",
              "130    4\n",
              "145    4\n",
              "120    3\n",
              "200    3\n",
              "180    3\n",
              "129    2\n",
              "160    2\n",
              "167    2\n",
              "113    2\n",
              "210    2\n",
              "260    1\n",
              "184    1\n",
              "128    1\n",
              "138    1\n",
              "192    1\n",
              "187    1\n",
              "205    1\n",
              "169    1\n",
              "168    1\n",
              "105    1\n",
              "123    1\n",
              "264    1\n",
              "110    1\n",
              "116    1\n",
              "137    1\n",
              "156    1\n",
              "Name: weight, dtype: int64"
            ]
          },
          "metadata": {},
          "execution_count": 166
        }
      ]
    },
    {
      "cell_type": "code",
      "source": [
        "df.head()"
      ],
      "metadata": {
        "colab": {
          "base_uri": "https://localhost:8080/",
          "height": 438
        },
        "id": "jYLwQE3l_j0J",
        "outputId": "e39cb673-d5e6-4bef-966e-595a101232fd"
      },
      "execution_count": 167,
      "outputs": [
        {
          "output_type": "execute_result",
          "data": {
            "text/plain": [
              "     GPA  Gender  breakfast  calories_chicken  calories_day  calories_scone  \\\n",
              "0  2.400       2          1               430           1.0           315.0   \n",
              "1  3.654       1          1               610           3.0           420.0   \n",
              "4  3.500       1          1               720           2.0           420.0   \n",
              "5  2.250       1          1               610           3.0           980.0   \n",
              "6  3.800       2          1               610           3.0           420.0   \n",
              "\n",
              "   coffee                                  comfort_food  \\\n",
              "0       1                                          none   \n",
              "1       2                   chocolate, chips, ice cream   \n",
              "4       2                  Ice cream, chocolate, chips    \n",
              "5       2                     Candy, brownies and soda.   \n",
              "6       2  Chocolate, ice cream, french fries, pretzels   \n",
              "\n",
              "                                comfort_food_reasons  \\\n",
              "0                              we dont have comfort    \n",
              "1                               Stress, bored, anger   \n",
              "4                         Stress, boredom, cravings    \n",
              "5  None, i don't eat comfort food. I just eat whe...   \n",
              "6                                    stress, boredom   \n",
              "\n",
              "   comfort_food_reasons_coded  ...  soup  sports  thai_food tortilla_calories  \\\n",
              "0                         9.0  ...   1.0     1.0          1            1165.0   \n",
              "1                         1.0  ...   1.0     1.0          2             725.0   \n",
              "4                         1.0  ...   1.0     1.0          4             940.0   \n",
              "5                         4.0  ...   1.0     2.0          4             940.0   \n",
              "6                         1.0  ...   1.0     1.0          5             940.0   \n",
              "\n",
              "   turkey_calories  type_sports veggies_day  vitamins  waffle_calories  weight  \n",
              "0              345   car racing           5         1             1315     187  \n",
              "1              690  Basketball            4         2              900     155  \n",
              "4              500     Softball           4         2              760     190  \n",
              "5              345        None.           1         2             1315     190  \n",
              "6              690       soccer           4         1             1315     180  \n",
              "\n",
              "[5 rows x 61 columns]"
            ],
            "text/html": [
              "\n",
              "  <div id=\"df-d465e92b-0c01-4e46-b086-2a0fcf7363cb\">\n",
              "    <div class=\"colab-df-container\">\n",
              "      <div>\n",
              "<style scoped>\n",
              "    .dataframe tbody tr th:only-of-type {\n",
              "        vertical-align: middle;\n",
              "    }\n",
              "\n",
              "    .dataframe tbody tr th {\n",
              "        vertical-align: top;\n",
              "    }\n",
              "\n",
              "    .dataframe thead th {\n",
              "        text-align: right;\n",
              "    }\n",
              "</style>\n",
              "<table border=\"1\" class=\"dataframe\">\n",
              "  <thead>\n",
              "    <tr style=\"text-align: right;\">\n",
              "      <th></th>\n",
              "      <th>GPA</th>\n",
              "      <th>Gender</th>\n",
              "      <th>breakfast</th>\n",
              "      <th>calories_chicken</th>\n",
              "      <th>calories_day</th>\n",
              "      <th>calories_scone</th>\n",
              "      <th>coffee</th>\n",
              "      <th>comfort_food</th>\n",
              "      <th>comfort_food_reasons</th>\n",
              "      <th>comfort_food_reasons_coded</th>\n",
              "      <th>...</th>\n",
              "      <th>soup</th>\n",
              "      <th>sports</th>\n",
              "      <th>thai_food</th>\n",
              "      <th>tortilla_calories</th>\n",
              "      <th>turkey_calories</th>\n",
              "      <th>type_sports</th>\n",
              "      <th>veggies_day</th>\n",
              "      <th>vitamins</th>\n",
              "      <th>waffle_calories</th>\n",
              "      <th>weight</th>\n",
              "    </tr>\n",
              "  </thead>\n",
              "  <tbody>\n",
              "    <tr>\n",
              "      <th>0</th>\n",
              "      <td>2.400</td>\n",
              "      <td>2</td>\n",
              "      <td>1</td>\n",
              "      <td>430</td>\n",
              "      <td>1.0</td>\n",
              "      <td>315.0</td>\n",
              "      <td>1</td>\n",
              "      <td>none</td>\n",
              "      <td>we dont have comfort</td>\n",
              "      <td>9.0</td>\n",
              "      <td>...</td>\n",
              "      <td>1.0</td>\n",
              "      <td>1.0</td>\n",
              "      <td>1</td>\n",
              "      <td>1165.0</td>\n",
              "      <td>345</td>\n",
              "      <td>car racing</td>\n",
              "      <td>5</td>\n",
              "      <td>1</td>\n",
              "      <td>1315</td>\n",
              "      <td>187</td>\n",
              "    </tr>\n",
              "    <tr>\n",
              "      <th>1</th>\n",
              "      <td>3.654</td>\n",
              "      <td>1</td>\n",
              "      <td>1</td>\n",
              "      <td>610</td>\n",
              "      <td>3.0</td>\n",
              "      <td>420.0</td>\n",
              "      <td>2</td>\n",
              "      <td>chocolate, chips, ice cream</td>\n",
              "      <td>Stress, bored, anger</td>\n",
              "      <td>1.0</td>\n",
              "      <td>...</td>\n",
              "      <td>1.0</td>\n",
              "      <td>1.0</td>\n",
              "      <td>2</td>\n",
              "      <td>725.0</td>\n",
              "      <td>690</td>\n",
              "      <td>Basketball</td>\n",
              "      <td>4</td>\n",
              "      <td>2</td>\n",
              "      <td>900</td>\n",
              "      <td>155</td>\n",
              "    </tr>\n",
              "    <tr>\n",
              "      <th>4</th>\n",
              "      <td>3.500</td>\n",
              "      <td>1</td>\n",
              "      <td>1</td>\n",
              "      <td>720</td>\n",
              "      <td>2.0</td>\n",
              "      <td>420.0</td>\n",
              "      <td>2</td>\n",
              "      <td>Ice cream, chocolate, chips</td>\n",
              "      <td>Stress, boredom, cravings</td>\n",
              "      <td>1.0</td>\n",
              "      <td>...</td>\n",
              "      <td>1.0</td>\n",
              "      <td>1.0</td>\n",
              "      <td>4</td>\n",
              "      <td>940.0</td>\n",
              "      <td>500</td>\n",
              "      <td>Softball</td>\n",
              "      <td>4</td>\n",
              "      <td>2</td>\n",
              "      <td>760</td>\n",
              "      <td>190</td>\n",
              "    </tr>\n",
              "    <tr>\n",
              "      <th>5</th>\n",
              "      <td>2.250</td>\n",
              "      <td>1</td>\n",
              "      <td>1</td>\n",
              "      <td>610</td>\n",
              "      <td>3.0</td>\n",
              "      <td>980.0</td>\n",
              "      <td>2</td>\n",
              "      <td>Candy, brownies and soda.</td>\n",
              "      <td>None, i don't eat comfort food. I just eat whe...</td>\n",
              "      <td>4.0</td>\n",
              "      <td>...</td>\n",
              "      <td>1.0</td>\n",
              "      <td>2.0</td>\n",
              "      <td>4</td>\n",
              "      <td>940.0</td>\n",
              "      <td>345</td>\n",
              "      <td>None.</td>\n",
              "      <td>1</td>\n",
              "      <td>2</td>\n",
              "      <td>1315</td>\n",
              "      <td>190</td>\n",
              "    </tr>\n",
              "    <tr>\n",
              "      <th>6</th>\n",
              "      <td>3.800</td>\n",
              "      <td>2</td>\n",
              "      <td>1</td>\n",
              "      <td>610</td>\n",
              "      <td>3.0</td>\n",
              "      <td>420.0</td>\n",
              "      <td>2</td>\n",
              "      <td>Chocolate, ice cream, french fries, pretzels</td>\n",
              "      <td>stress, boredom</td>\n",
              "      <td>1.0</td>\n",
              "      <td>...</td>\n",
              "      <td>1.0</td>\n",
              "      <td>1.0</td>\n",
              "      <td>5</td>\n",
              "      <td>940.0</td>\n",
              "      <td>690</td>\n",
              "      <td>soccer</td>\n",
              "      <td>4</td>\n",
              "      <td>1</td>\n",
              "      <td>1315</td>\n",
              "      <td>180</td>\n",
              "    </tr>\n",
              "  </tbody>\n",
              "</table>\n",
              "<p>5 rows × 61 columns</p>\n",
              "</div>\n",
              "      <button class=\"colab-df-convert\" onclick=\"convertToInteractive('df-d465e92b-0c01-4e46-b086-2a0fcf7363cb')\"\n",
              "              title=\"Convert this dataframe to an interactive table.\"\n",
              "              style=\"display:none;\">\n",
              "        \n",
              "  <svg xmlns=\"http://www.w3.org/2000/svg\" height=\"24px\"viewBox=\"0 0 24 24\"\n",
              "       width=\"24px\">\n",
              "    <path d=\"M0 0h24v24H0V0z\" fill=\"none\"/>\n",
              "    <path d=\"M18.56 5.44l.94 2.06.94-2.06 2.06-.94-2.06-.94-.94-2.06-.94 2.06-2.06.94zm-11 1L8.5 8.5l.94-2.06 2.06-.94-2.06-.94L8.5 2.5l-.94 2.06-2.06.94zm10 10l.94 2.06.94-2.06 2.06-.94-2.06-.94-.94-2.06-.94 2.06-2.06.94z\"/><path d=\"M17.41 7.96l-1.37-1.37c-.4-.4-.92-.59-1.43-.59-.52 0-1.04.2-1.43.59L10.3 9.45l-7.72 7.72c-.78.78-.78 2.05 0 2.83L4 21.41c.39.39.9.59 1.41.59.51 0 1.02-.2 1.41-.59l7.78-7.78 2.81-2.81c.8-.78.8-2.07 0-2.86zM5.41 20L4 18.59l7.72-7.72 1.47 1.35L5.41 20z\"/>\n",
              "  </svg>\n",
              "      </button>\n",
              "      \n",
              "  <style>\n",
              "    .colab-df-container {\n",
              "      display:flex;\n",
              "      flex-wrap:wrap;\n",
              "      gap: 12px;\n",
              "    }\n",
              "\n",
              "    .colab-df-convert {\n",
              "      background-color: #E8F0FE;\n",
              "      border: none;\n",
              "      border-radius: 50%;\n",
              "      cursor: pointer;\n",
              "      display: none;\n",
              "      fill: #1967D2;\n",
              "      height: 32px;\n",
              "      padding: 0 0 0 0;\n",
              "      width: 32px;\n",
              "    }\n",
              "\n",
              "    .colab-df-convert:hover {\n",
              "      background-color: #E2EBFA;\n",
              "      box-shadow: 0px 1px 2px rgba(60, 64, 67, 0.3), 0px 1px 3px 1px rgba(60, 64, 67, 0.15);\n",
              "      fill: #174EA6;\n",
              "    }\n",
              "\n",
              "    [theme=dark] .colab-df-convert {\n",
              "      background-color: #3B4455;\n",
              "      fill: #D2E3FC;\n",
              "    }\n",
              "\n",
              "    [theme=dark] .colab-df-convert:hover {\n",
              "      background-color: #434B5C;\n",
              "      box-shadow: 0px 1px 3px 1px rgba(0, 0, 0, 0.15);\n",
              "      filter: drop-shadow(0px 1px 2px rgba(0, 0, 0, 0.3));\n",
              "      fill: #FFFFFF;\n",
              "    }\n",
              "  </style>\n",
              "\n",
              "      <script>\n",
              "        const buttonEl =\n",
              "          document.querySelector('#df-d465e92b-0c01-4e46-b086-2a0fcf7363cb button.colab-df-convert');\n",
              "        buttonEl.style.display =\n",
              "          google.colab.kernel.accessAllowed ? 'block' : 'none';\n",
              "\n",
              "        async function convertToInteractive(key) {\n",
              "          const element = document.querySelector('#df-d465e92b-0c01-4e46-b086-2a0fcf7363cb');\n",
              "          const dataTable =\n",
              "            await google.colab.kernel.invokeFunction('convertToInteractive',\n",
              "                                                     [key], {});\n",
              "          if (!dataTable) return;\n",
              "\n",
              "          const docLinkHtml = 'Like what you see? Visit the ' +\n",
              "            '<a target=\"_blank\" href=https://colab.research.google.com/notebooks/data_table.ipynb>data table notebook</a>'\n",
              "            + ' to learn more about interactive tables.';\n",
              "          element.innerHTML = '';\n",
              "          dataTable['output_type'] = 'display_data';\n",
              "          await google.colab.output.renderOutput(dataTable, element);\n",
              "          const docLink = document.createElement('div');\n",
              "          docLink.innerHTML = docLinkHtml;\n",
              "          element.appendChild(docLink);\n",
              "        }\n",
              "      </script>\n",
              "    </div>\n",
              "  </div>\n",
              "  "
            ]
          },
          "metadata": {},
          "execution_count": 167
        }
      ]
    },
    {
      "cell_type": "code",
      "source": [
        "df.shape"
      ],
      "metadata": {
        "colab": {
          "base_uri": "https://localhost:8080/"
        },
        "id": "fbWqHdGVTOPm",
        "outputId": "22c39e10-d978-4378-b185-cee28125af82"
      },
      "execution_count": 168,
      "outputs": [
        {
          "output_type": "execute_result",
          "data": {
            "text/plain": [
              "(95, 61)"
            ]
          },
          "metadata": {},
          "execution_count": 168
        }
      ]
    },
    {
      "cell_type": "markdown",
      "source": [
        "Let's make a few plot to see if everything is working good. Just for the record these plot are not aimed at anything nor do they convey or highlight any important things."
      ],
      "metadata": {
        "id": "cmJewLUpTPef"
      }
    },
    {
      "cell_type": "code",
      "source": [
        "sns.relplot(\n",
        "    data=df,\n",
        "    x=\"calories_chicken\", y=\"turkey_calories\"\n",
        ")"
      ],
      "metadata": {
        "colab": {
          "base_uri": "https://localhost:8080/",
          "height": 387
        },
        "id": "k_lgjU2bAlVq",
        "outputId": "63f0da64-8258-4c28-82d3-ab0d95095d87"
      },
      "execution_count": 169,
      "outputs": [
        {
          "output_type": "execute_result",
          "data": {
            "text/plain": [
              "<seaborn.axisgrid.FacetGrid at 0x7f5e46313160>"
            ]
          },
          "metadata": {},
          "execution_count": 169
        },
        {
          "output_type": "display_data",
          "data": {
            "text/plain": [
              "<Figure size 360x360 with 1 Axes>"
            ],
            "image/png": "[encoded data removed]"
          },
          "metadata": {
            "needs_background": "light"
          }
        }
      ]
    },
    {
      "cell_type": "code",
      "source": [
        "plt.plot(df['self_perception_weight'],df['calories_chicken'])"
      ],
      "metadata": {
        "colab": {
          "base_uri": "https://localhost:8080/",
          "height": 282
        },
        "id": "0WQvqnM6QrUk",
        "outputId": "6705d2dc-fda7-4327-b42e-b45f68d008d5"
      },
      "execution_count": 170,
      "outputs": [
        {
          "output_type": "execute_result",
          "data": {
            "text/plain": [
              "[<matplotlib.lines.Line2D at 0x7f5e42d15fd0>]"
            ]
          },
          "metadata": {},
          "execution_count": 170
        },
        {
          "output_type": "display_data",
          "data": {
            "text/plain": [
              "<Figure size 432x288 with 1 Axes>"
            ],
            "image/png": "[encoded data removed]"
          },
          "metadata": {
            "needs_background": "light"
          }
        }
      ]
    }
  ]
}