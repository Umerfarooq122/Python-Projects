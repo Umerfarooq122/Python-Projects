{
  "nbformat": 4,
  "nbformat_minor": 0,
  "metadata": {
    "colab": {
      "provenance": [],
      "authorship_tag": "ABX9TyOVjmBI1eYae3kF6vnvkr2h",
      "include_colab_link": true
    },
    "kernelspec": {
      "name": "python3",
      "display_name": "Python 3"
    },
    "language_info": {
      "name": "python"
    }
  },
  "cells": [
    {
      "cell_type": "markdown",
      "metadata": {
        "id": "view-in-github",
        "colab_type": "text"
      },
      "source": [
        "<a href=\"https://colab.research.google.com/github/Umerfarooq122/Python-Projects/blob/main/Assignment_3.ipynb\" target=\"_parent\"><img src=\"https://colab.research.google.com/assets/colab-badge.svg\" alt=\"Open In Colab\"/></a>"
      ]
    },
    {
      "cell_type": "markdown",
      "source": [
        "### **Assignment 3**\n",
        "\n"
      ],
      "metadata": {
        "id": "N-BT_WyZnAD4"
      }
    },
    {
      "cell_type": "markdown",
      "source": [
        "**Q1:** Write a program that prompts the user for a meal: breakfast, lunch, or dinner. Then using if statements and else statements print the user a message recommending a meal. For example, if the meal was breakfast, you could say something like, “How about some bacon and eggs?”\n",
        "The user may enter something else in, but you only have to respond to breakfast, lunch, or dinner"
      ],
      "metadata": {
        "id": "JsH8Xx7QmzVU"
      }
    },
    {
      "cell_type": "code",
      "source": [
        "def meal_suggestion():\n",
        "  actions = [\"breakfast\", \"lunch\", \"dinner\"]\n",
        "  user_input = input(f\"What meal will you be having out of {actions}?: \")\n",
        "  if user_input == \"breakfast\":\n",
        "    print(\"Perhaps you should try a meal of boiled eggs with black coffee\")\n",
        "  elif user_input == \"lunch\":\n",
        "    print(\"Perhaps you should try a meal of a ham and cheese sandwich\")\n",
        "  elif user_input == \"dinner\":\n",
        "    print(\"Perhaps you should try a meal of smoked salmon over rice\")\n",
        "  else:\n",
        "    print(\"That meal doesn't exist, please try again.\")\n",
        "\n",
        "meal_suggestion()"
      ],
      "metadata": {
        "colab": {
          "base_uri": "https://localhost:8080/"
        },
        "id": "1LgiDNrAm7Sj",
        "outputId": "51b53c6f-8300-4d87-fae6-b8152226a5cb"
      },
      "execution_count": 1,
      "outputs": [
        {
          "output_type": "stream",
          "name": "stdout",
          "text": [
            "What meal will you be having out of ['breakfast', 'lunch', 'dinner']?: lunch\n",
            "Perhaps you should try a meal of a ham and cheese sandwich\n"
          ]
        }
      ]
    },
    {
      "cell_type": "markdown",
      "source": [
        "**Q2:** The mailroom has asked you to design a simple payroll program that calculates a student employee’s gross pay, including any overtime wages. If any employee works over 20 hours in a week, the mailroom pays them 1.5 times their regular hourly pay rate for all hours over 20. \n",
        "You should take in the user’s input for the number of hours worked, and their rate of pay."
      ],
      "metadata": {
        "id": "YJGbmPePnav2"
      }
    },
    {
      "cell_type": "code",
      "source": [
        "def payroll(hours_worked = -1, pay_rate = -1):\n",
        "  if hours_worked == -1 and pay_rate == -1:\n",
        "    hours_worked = float(input(\"Please enter your hours worked: \"))\n",
        "    pay_rate = float(input(\"Please enter your rate of pay: \"))\n",
        "  if hours_worked > 20:\n",
        "    pay = (1.5 * (hours_worked-20) * pay_rate) + (20 * pay_rate)\n",
        "    print(f\"Your pay for this week is {pay}\")\n",
        "  else:\n",
        "    pay = hours_worked * pay_rate\n",
        "    print(f\"Your pay for this week is {pay}\")\n",
        "payroll(25,10)\n",
        "## Your pay for this week is 275.0\n",
        "payroll()\n",
        "## Please enter your hours worked: 4"
      ],
      "metadata": {
        "colab": {
          "base_uri": "https://localhost:8080/"
        },
        "id": "QZYzIEihnfvW",
        "outputId": "41ac7db3-6886-4357-ad0c-a46135a845f9"
      },
      "execution_count": 3,
      "outputs": [
        {
          "output_type": "stream",
          "name": "stdout",
          "text": [
            "Your pay for this week is 275.0\n",
            "Please enter your hours worked: 25\n",
            "Please enter your rate of pay: 10\n",
            "Your pay for this week is 275.0\n"
          ]
        }
      ]
    },
    {
      "cell_type": "markdown",
      "source": [
        "**Q3:** Write a function named times_ten. The function should accept an argument and display the product of its argument multiplied times 10."
      ],
      "metadata": {
        "id": "nnMv_uz1nvvl"
      }
    },
    {
      "cell_type": "code",
      "source": [
        "def times_ten(argument):\n",
        "  print(argument*10)\n",
        "\n",
        "times_ten(10)"
      ],
      "metadata": {
        "colab": {
          "base_uri": "https://localhost:8080/"
        },
        "id": "UkMaoHVkn7Dh",
        "outputId": "8706f8fd-d372-45a0-f9ab-98e10fa22358"
      },
      "execution_count": 4,
      "outputs": [
        {
          "output_type": "stream",
          "name": "stdout",
          "text": [
            "100\n"
          ]
        }
      ]
    },
    {
      "cell_type": "markdown",
      "source": [
        "**Q4:** Find the errors, debug the program, and then execute to show the output.\n",
        "\n",
        "def main()\n",
        "      \n",
        "      Calories1 = input( \"How many calories are in the first food?\")\n",
        "      Calories2 = input( \"How many calories are in the first food?\")\n",
        "      showCalories(calories1, calories2)\n",
        "\n",
        "def showCalories()   \n",
        "\n",
        "   print(“The total calories you ate today”, format(calories1 + calories2,.2f))"
      ],
      "metadata": {
        "id": "6dvUjoUKoDn9"
      }
    },
    {
      "cell_type": "markdown",
      "source": [
        " \n",
        "#### **Changes made**\n",
        "*  Moved indents within main back twice as they were too far out and python is indent sensitive.\n",
        "*   Changed calories 2 to display second food in the input prompt.\n",
        "Python is case sensitive so calories in showCalories need to be capitalized.\n",
        "*   Changed calories to integers since input returns strings.\n",
        "*   Fixed the format of how the format method should be used. Including removing the .2f.\n",
        "*   Fixed the psuedo-quotation marks that were not the typical ones used to create a string.\n",
        "*   Added colons to fix the function definitions.\n",
        "*   Called main() to run the function.\n",
        "*   Added arguments to showCalories."
      ],
      "metadata": {
        "id": "4ZahiweJoeaP"
      }
    },
    {
      "cell_type": "code",
      "source": [
        "def main():\n",
        "  Calories1 = input(\"How many calories are in the first food? \")\n",
        "  Calories2 = input(\"How many calories are in the second food? \")\n",
        "  showCalories(int(Calories1), int(Calories2))\n",
        "\n",
        "def showCalories(Calories1,Calories2):\n",
        "   print(\"The total calories you ate today {:.2f}\".format(Calories1 + Calories2))\n",
        "\n",
        "main()"
      ],
      "metadata": {
        "colab": {
          "base_uri": "https://localhost:8080/"
        },
        "id": "gNSXAozapf1c",
        "outputId": "a68f7be5-a639-4701-f73b-52b4c7eead8b"
      },
      "execution_count": 10,
      "outputs": [
        {
          "output_type": "stream",
          "name": "stdout",
          "text": [
            "How many calories are in the first food? 34\n",
            "How many calories are in the second food? 43\n",
            "The total calories you ate today 77.00\n"
          ]
        }
      ]
    },
    {
      "cell_type": "markdown",
      "source": [
        "**Q5:** Write a program that uses any loop (while or for) that calculates the total of the following series of numbers:\n",
        "\n",
        "         1/30 + 2/29 + 3/28 ............. + 30/1"
      ],
      "metadata": {
        "id": "zisu9NBXpous"
      }
    },
    {
      "cell_type": "code",
      "source": [
        "def sum_of_fractions(min,max):\n",
        "  summation = 0\n",
        "  \n",
        "  for x in range(min,max+1):\n",
        "    \n",
        "    summation += (x)/(max-(x-1))\n",
        "  \n",
        "  return summation\n",
        "\n",
        "min = 1\n",
        "max = 30\n",
        "\n",
        "\n",
        "summation = sum_of_fractions(min,max)\n",
        "print(summation)\n",
        "\n",
        "print(round(summation,2))\n"
      ],
      "metadata": {
        "colab": {
          "base_uri": "https://localhost:8080/"
        },
        "id": "fT58WVjmqRSu",
        "outputId": "7e85e001-0a79-45b5-f16c-3d0f851176dd"
      },
      "execution_count": 8,
      "outputs": [
        {
          "output_type": "stream",
          "name": "stdout",
          "text": [
            "93.84460105853213\n",
            "93.84\n"
          ]
        }
      ]
    },
    {
      "cell_type": "markdown",
      "source": [
        "**Q6:** Write a function that computes the area of a triangle given its base and height.\n",
        "The formula for an area of a triangle is:\n",
        "\n",
        "AREA = 1/2 * BASE * HEIGHT\n",
        "\n",
        "For example, if the base was 5 and the height was 4, the area would be 10.\n",
        "triangle_area(5, 4)   # should print 10"
      ],
      "metadata": {
        "id": "wBqkLzYuqgZw"
      }
    },
    {
      "cell_type": "code",
      "source": [
        "# The function below can be modified to only display the area\n",
        "\n",
        "def triangle_calc(base = 0,height = 0):\n",
        "    if base == 0 and height == 0:\n",
        "      base = float(input(\"Please enter the base of your triangle: \"))\n",
        "      height = float(input(\"Please enter the height of your triangle: \"))\n",
        "    area = (1/2)*base*height\n",
        "    print(f\"A {base} by {height} triangle has an area of {area}\")\n",
        "\n",
        "triangle_calc(5,4)\n",
        "triangle_calc()"
      ],
      "metadata": {
        "colab": {
          "base_uri": "https://localhost:8080/"
        },
        "id": "TnGxFs-errqJ",
        "outputId": "66111a5e-714b-40d8-ad84-f1b35bfc9b2e"
      },
      "execution_count": 9,
      "outputs": [
        {
          "output_type": "stream",
          "name": "stdout",
          "text": [
            "A 5 by 4 triangle has an area of 10.0\n",
            "Please enter the base of your triangle: 5\n",
            "Please enter the height of your triangle: 4\n",
            "A 5.0 by 4.0 triangle has an area of 10.0\n"
          ]
        }
      ]
    }
  ]
}