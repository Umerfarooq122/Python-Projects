{
  "nbformat": 4,
  "nbformat_minor": 0,
  "metadata": {
    "colab": {
      "provenance": [],
      "authorship_tag": "ABX9TyORTFWRVz3AtgE9Ha+HLrKW",
      "include_colab_link": true
    },
    "kernelspec": {
      "name": "python3",
      "display_name": "Python 3"
    },
    "language_info": {
      "name": "python"
    }
  },
  "cells": [
    {
      "cell_type": "markdown",
      "metadata": {
        "id": "view-in-github",
        "colab_type": "text"
      },
      "source": [
        "<a href=\"https://colab.research.google.com/github/Umerfarooq122/Python-Projects/blob/main/Assignment4.ipynb\" target=\"_parent\"><img src=\"https://colab.research.google.com/assets/colab-badge.svg\" alt=\"Open In Colab\"/></a>"
      ]
    },
    {
      "cell_type": "markdown",
      "source": [
        "**Q1: Create a class called BankAccount that has four attributes: bankname, firstname, lastname, and balance. The default balance should be set to 0. In addition, create ...**\n",
        "\n",
        "* A method called deposit() that allows the user to make deposits into their balance.\n",
        "* A method called withdrawal() that allows the user to withdraw from their balance.\n",
        "* Withdrawal may not exceed the available balance. Hint: consider a conditional argument in your withdrawal() method.\n",
        "* Use the __str__() method in order to display the bank name, owner name, and current balance.\n",
        "* Make a series of deposits and withdrawals to test your class.\n"
      ],
      "metadata": {
        "id": "STK6-Pm6zIOQ"
      }
    },
    {
      "cell_type": "code",
      "source": [],
      "metadata": {
        "id": "MeDjOYLePXGv"
      },
      "execution_count": null,
      "outputs": []
    },
    {
      "cell_type": "code",
      "execution_count": null,
      "metadata": {
        "id": "g9oTU0Jcp9Da"
      },
      "outputs": [],
      "source": [
        "\n",
        "class BankAccount:\n",
        "  def __init__(self, bankname,firstname,lastname,balance):\n",
        "    self.bankname=bankname\n",
        "    self.firstname=firstname\n",
        "    self.lastname=lastname\n",
        "    self.balance=balance\n",
        "  def deposit(self, deposit):\n",
        "    self.balance= self.balance + deposit\n",
        "  def withdrawal(self, withdrawal):\n",
        "    if withdrawal < self.balance:\n",
        "      self.balance=self.balance-withdrawal\n",
        "    else:\n",
        "      print(\"not possible\")\n",
        "  def __str__(self):\n",
        "    return f\"The Customer Mr.{self.firstname} {self.lastname} of {self.bankname} Bank has {self.balance} amount as available balance\"\n",
        "\n",
        "BA = BankAccount(\"Chase\",\"Umer\",\"Farooq\",3000)\n"
      ]
    },
    {
      "cell_type": "code",
      "source": [
        "BA.deposit(200)\n",
        "print(BA)"
      ],
      "metadata": {
        "colab": {
          "base_uri": "https://localhost:8080/"
        },
        "id": "oY0ZcwoywvPp",
        "outputId": "fe1f8d77-6d96-4456-f295-2525287f2b82"
      },
      "execution_count": null,
      "outputs": [
        {
          "output_type": "stream",
          "name": "stdout",
          "text": [
            "The Customer Mr.Umer Farooq of Chase Bank has 3200 amount as available balance\n"
          ]
        }
      ]
    },
    {
      "cell_type": "code",
      "source": [
        "BA.deposit(1000)\n",
        "print(BA)"
      ],
      "metadata": {
        "colab": {
          "base_uri": "https://localhost:8080/"
        },
        "id": "eylYs7EEw0Yl",
        "outputId": "4e2f315b-c399-4a26-ec00-01a6dd2d7483"
      },
      "execution_count": null,
      "outputs": [
        {
          "output_type": "stream",
          "name": "stdout",
          "text": [
            "The Customer Mr.Umer Farooq of Chase Bank has 4200 amount as available balance\n"
          ]
        }
      ]
    },
    {
      "cell_type": "code",
      "source": [
        "BA.withdrawal(1500)\n",
        "print(BA)"
      ],
      "metadata": {
        "colab": {
          "base_uri": "https://localhost:8080/"
        },
        "id": "KATaMzdxw2JP",
        "outputId": "080f3cff-6d46-4040-cbb5-885bd1f4a5ea"
      },
      "execution_count": null,
      "outputs": [
        {
          "output_type": "stream",
          "name": "stdout",
          "text": [
            "The Customer Mr.Umer Farooq of Chase Bank has 2700 amount as available balance\n"
          ]
        }
      ]
    },
    {
      "cell_type": "markdown",
      "source": [
        "**Q2: Create a class Box that has attributes length and width that takes values for length and width upon construction (instantiation via the constructor). In addition, create…**\n",
        "* A method called render() that prints out to the screen a box made with asterisks of length and width dimensions.\n",
        "* A method called invert() that switches length and width with each other.\n",
        "* Methods get_area() and get_perimeter() that return appropriate geometric calculations.\n",
        "* A method called double() that doubles the size of the box. Hint: Pay attention to return value here.\n",
        "* Implement __eq__ so that two boxes can be compared using ==. Two boxes are equal if their respective lengths and widths are identical.\n",
        "* A method print_dim() that prints to screen the length and width details of the box.\n",
        "* A method get_dim() that returns a tuple containing the length and width of the box.\n",
        "* A method combine() that takes another box as an argument and increases the length and width by the dimensions of the box passed in.\n",
        "* A method get_hypot() that finds the length of the diagonal that cuts through the middle.\n",
        "* Instantiate 3 boxes of dimensions 5,10 , 3,4 and 5,10 and assign to variables box1, box2 and box3 respectively\n",
        "* Print dimension info for each using print_dim()\n",
        "* Evaluate if box1 == box2, and also evaluate if box1 == box3, print True or False to the screen accordingly.\n",
        "* Combine box3 into box1 (i.e. box1.combine()).\n",
        "* Double the size of box2.\n",
        "* Combine box2 into box1"
      ],
      "metadata": {
        "id": "FSuLwjFtz5v0"
      }
    },
    {
      "cell_type": "code",
      "source": [
        "import math as mt\n",
        "class Box:\n",
        "  def __init__(self, length, width, area=0):\n",
        "    self.length=length\n",
        "    self.width=width\n",
        "    self.area = area\n",
        "  def render(self):\n",
        "    for i in range(self.length):\n",
        "      print(\"* \"*self.width)\n",
        "  def revert(self):\n",
        "    self.length = self.width\n",
        "    self.width = self.length\n",
        "  def get_area(self):\n",
        "    self.area= self.length * self.width\n",
        "    print(self.area)\n",
        "  def get_perimeter(self, perimeter=0):\n",
        "    self.perimeter = 2*(self.length+self.width)\n",
        "    print(self.perimeter)\n",
        "  def double(self, length_new=0, width_new=0):\n",
        "    self.length_new = 2*self.length\n",
        "    self.width_new = 2*self.width\n",
        "    print(f\"The double length is {self.length_new} and width is {self.width_new}\")\n",
        "  def __eq__(self):\n",
        "    return self.length == self.length_new\n",
        "    return self.width == self.width_new\n",
        "  def print_dim(self):\n",
        "    print(f\"The length of box is {self.length} and width is {self.width}\")\n",
        "  def get_dim(self):\n",
        "    return [self.length, self.width]\n",
        "  def combine(self, other):\n",
        "    self.length=other.length+self.length\n",
        "    self.width=other.width+self.width\n",
        "    return f'The combine length is {self.length} and width is {self.width}'\n",
        "  def get_hypot(self, hypot=0):\n",
        "    self.hypot = mt.sqrt((self.length**2)+(self.width**2))\n",
        "    return self.hypot\n",
        "  def __eq__(self,other):\n",
        "    return (self.length == other.length) and (self.width == other.width)\n",
        "\n",
        "\n",
        "    \n",
        "\n",
        "    \n",
        "\n",
        "bx =Box(5 ,5)\n",
        "bx1= Box(1,1)\n",
        "bx.render()\n",
        "#bx.revert()\n",
        "bx.get_area()\n",
        "bx.get_perimeter()\n",
        "bx.double()\n",
        "bx.print_dim()\n",
        "bx.get_dim()\n",
        "print(bx.combine(bx1))\n",
        "print(bx.get_hypot())"
      ],
      "metadata": {
        "id": "dvnJFvI70hyw",
        "colab": {
          "base_uri": "https://localhost:8080/"
        },
        "outputId": "7a729ca9-b981-46f2-c262-8bd4fcbb582a"
      },
      "execution_count": 9,
      "outputs": [
        {
          "output_type": "stream",
          "name": "stdout",
          "text": [
            "* * * * * \n",
            "* * * * * \n",
            "* * * * * \n",
            "* * * * * \n",
            "* * * * * \n",
            "25\n",
            "20\n",
            "The double length is 10 and width is 10\n",
            "The length of box is 5 and width is 5\n",
            "The combine length is 6 and width is 6\n",
            "8.48528137423857\n"
          ]
        }
      ]
    },
    {
      "cell_type": "code",
      "source": [
        "box1 = Box(5,10)\n",
        "box2= Box(3,4)\n",
        "box3= Box(5,10)"
      ],
      "metadata": {
        "id": "0YUCEFfvPYRL"
      },
      "execution_count": 10,
      "outputs": []
    },
    {
      "cell_type": "code",
      "source": [
        "box1.print_dim()\n",
        "box2.print_dim()\n",
        "box3.print_dim()"
      ],
      "metadata": {
        "colab": {
          "base_uri": "https://localhost:8080/"
        },
        "id": "IgCa3eolTWpI",
        "outputId": "2df8dcef-f47b-4192-e698-32e228bda204"
      },
      "execution_count": 4,
      "outputs": [
        {
          "output_type": "stream",
          "name": "stdout",
          "text": [
            "The length of box is 5 and width is 10\n",
            "The length of box is 3 and width is 4\n",
            "The length of box is 5 and width is 10\n"
          ]
        }
      ]
    },
    {
      "cell_type": "code",
      "source": [
        "box1== box2\n"
      ],
      "metadata": {
        "colab": {
          "base_uri": "https://localhost:8080/"
        },
        "id": "CeNwUt5xTm8G",
        "outputId": "c322eb62-353e-4dd0-a956-6ab5814ff777"
      },
      "execution_count": 12,
      "outputs": [
        {
          "output_type": "execute_result",
          "data": {
            "text/plain": [
              "False"
            ]
          },
          "metadata": {},
          "execution_count": 12
        }
      ]
    },
    {
      "cell_type": "code",
      "source": [
        "box1 == box3"
      ],
      "metadata": {
        "colab": {
          "base_uri": "https://localhost:8080/"
        },
        "id": "7foNp99OZdiI",
        "outputId": "9d9a5c08-5ffa-4a4a-fe6e-89d5fd2e9ee7"
      },
      "execution_count": 13,
      "outputs": [
        {
          "output_type": "execute_result",
          "data": {
            "text/plain": [
              "True"
            ]
          },
          "metadata": {},
          "execution_count": 13
        }
      ]
    },
    {
      "cell_type": "code",
      "source": [
        "box2.double()\n"
      ],
      "metadata": {
        "colab": {
          "base_uri": "https://localhost:8080/"
        },
        "id": "q32La39Xbsf0",
        "outputId": "a600ebd4-3089-4c37-acc7-efa2d45b7343"
      },
      "execution_count": null,
      "outputs": [
        {
          "output_type": "stream",
          "name": "stdout",
          "text": [
            "The double length is 6 and width is 8\n"
          ]
        }
      ]
    },
    {
      "cell_type": "code",
      "source": [
        "print(box1.combine(box2))\n",
        "print(box1.combine(box3))"
      ],
      "metadata": {
        "colab": {
          "base_uri": "https://localhost:8080/"
        },
        "id": "GN4vhx99cOA_",
        "outputId": "594f0422-0ee7-45aa-8ec4-83d5e6cf393e"
      },
      "execution_count": 7,
      "outputs": [
        {
          "output_type": "stream",
          "name": "stdout",
          "text": [
            "The combine length is 19 and width is 32\n",
            "The combine length is 24 and width is 42\n"
          ]
        }
      ]
    }
  ]
}