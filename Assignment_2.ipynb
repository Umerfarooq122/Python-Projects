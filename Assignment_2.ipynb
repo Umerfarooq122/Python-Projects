{
  "nbformat": 4,
  "nbformat_minor": 0,
  "metadata": {
    "colab": {
      "provenance": [],
      "authorship_tag": "ABX9TyMW4LYGoITrmuSCYCNlIwVw",
      "include_colab_link": true
    },
    "kernelspec": {
      "name": "python3",
      "display_name": "Python 3"
    },
    "language_info": {
      "name": "python"
    }
  },
  "cells": [
    {
      "cell_type": "markdown",
      "metadata": {
        "id": "view-in-github",
        "colab_type": "text"
      },
      "source": [
        "<a href=\"https://colab.research.google.com/github/Umerfarooq122/Python-Projects/blob/main/Assignment_2.ipynb\" target=\"_parent\"><img src=\"https://colab.research.google.com/assets/colab-badge.svg\" alt=\"Open In Colab\"/></a>"
      ]
    },
    {
      "cell_type": "markdown",
      "source": [
        "#### **Q1. What will the following code display?**\n",
        "\n",
        "numbers = [1, 2, 3, 4, 5]\n",
        "\n",
        "print(numbers[1:-5])\n",
        "\n",
        "Can you debug and fix the output? The code should return the entire list"
      ],
      "metadata": {
        "id": "I1bMZrgGK19s"
      }
    },
    {
      "cell_type": "code",
      "source": [
        "numbers=[1,2,3,4,5]\n",
        "print(numbers[0:5])"
      ],
      "metadata": {
        "colab": {
          "base_uri": "https://localhost:8080/"
        },
        "id": "R2v8NTECLjq6",
        "outputId": "ccfe0e0b-bdb4-4273-da2b-7de615a8c26d"
      },
      "execution_count": 3,
      "outputs": [
        {
          "output_type": "stream",
          "name": "stdout",
          "text": [
            "[1, 2, 3, 4, 5]\n"
          ]
        }
      ]
    },
    {
      "cell_type": "markdown",
      "source": [
        "#### **Q2. Design a program that asks the user to enter a store’s sales for each day of the week. The amounts should be stored in a list. Use a loop to calculate the total sales for the week and display the result.**"
      ],
      "metadata": {
        "id": "KbJw2GcnMBf_"
      }
    },
    {
      "cell_type": "code",
      "source": [
        "def sales_tracker():\n",
        "  weekdays =['Monday','Tuesday','Wednesday','Thursday','Friday','Saturday','Sunday']\n",
        "  tracker={}\n",
        "  for day in weekdays:\n",
        "    tracker[day]=int(input(f'Please enter the amount of sale for {day}: '))\n",
        "  return tracker\n",
        "\n",
        "tracker=sales_tracker()\n",
        "print(tracker)\n",
        "\n"
      ],
      "metadata": {
        "id": "y1rYQT22MuoU"
      },
      "execution_count": null,
      "outputs": []
    },
    {
      "cell_type": "markdown",
      "source": [
        "#### **Q3. Create a list with at least 5 places you’d like to travel to. Make sure the list isn’t in**\n",
        "● Print your list in its original order.\n",
        "\n",
        "● Use the sort() function to arrange your list in order and reprint your list\n",
        "\n",
        "● Use the sort(reverse=True) and reprint your list\n"
      ],
      "metadata": {
        "id": "Rmko6loLR9rY"
      }
    },
    {
      "cell_type": "code",
      "source": [
        "travel = [\"Hunza\", \"Skardu\", \"Naran\", \"Murre\", \"Shogran\"]\n",
        "print(travel)\n",
        "travel.sort()\n",
        "print(travel)\n",
        "travel.sort(reverse=True)\n",
        "print(travel)\n"
      ],
      "metadata": {
        "colab": {
          "base_uri": "https://localhost:8080/"
        },
        "id": "6EIUNfXwTER8",
        "outputId": "50b287c7-7be1-4756-9f52-d931a78c32b6"
      },
      "execution_count": 15,
      "outputs": [
        {
          "output_type": "stream",
          "name": "stdout",
          "text": [
            "['Hunza', 'Skardu', 'Naran', 'Murre', 'Shogran']\n",
            "['Hunza', 'Murre', 'Naran', 'Shogran', 'Skardu']\n",
            "['Skardu', 'Shogran', 'Naran', 'Murre', 'Hunza']\n"
          ]
        }
      ]
    },
    {
      "cell_type": "markdown",
      "source": [
        "#### **Q4. Write a program that creates a dictionary containing course numbers and the room numbers of the rooms where the courses meet. The program should also create a dictionary containing course numbers and the names of the instructors that teach each course. After that, the program should let the user enter a course number, then it should display the course’s room number, instructor, and meeting time.**"
      ],
      "metadata": {
        "id": "YZdfwxlmTkLa"
      }
    },
    {
      "cell_type": "code",
      "source": [
        "number_room = {602:123, 605:256, 606:483, 607:523}\n",
        "number_instructor_time = {602:[\"Schettini\",\"6:00 PM EST\"], 605:[\"Fulton\", \"6:30 PM EST\"], 606:[\"Briar\", \"8:00 PM EST\"], 607:[\"Catlin\", \"6:45 PM EST\"]}\n",
        "\n",
        "def course_summary():\n",
        "  course_number = int(input(\"Please enter a course number: \"))\n",
        "  print(f\"The course number {course_number} meets in room {number_room[course_number]} and has the instructor {number_instructor_time[course_number][0]} and meets at {number_instructor_time[course_number][1]}\")\n",
        "\n",
        "course_summary()\n"
      ],
      "metadata": {
        "colab": {
          "base_uri": "https://localhost:8080/"
        },
        "id": "CHtKHFzMUHjh",
        "outputId": "c2dc7c90-93e6-4d7f-9e2e-a31ef8a17a3e"
      },
      "execution_count": 16,
      "outputs": [
        {
          "output_type": "stream",
          "name": "stdout",
          "text": [
            "Please enter a course number: 602\n",
            "The course number 602 meets in room 123 and has the instructor Schettini and meets at 6:00 PM EST\n"
          ]
        }
      ]
    },
    {
      "cell_type": "markdown",
      "source": [
        "#### **Q5. Write a program that keeps names and email addresses in a dictionary as key-value pairs. The program should then demonstrate the four options:**\n",
        "● look up a person’s email address,\n",
        "\n",
        "● add a new name and email address,\n",
        "\n",
        "● change an existing email address, and\n",
        "\n",
        "● delete an existing name and email address."
      ],
      "metadata": {
        "id": "IWEdPmKMUQ_y"
      }
    },
    {
      "cell_type": "code",
      "source": [
        "name_email = {\"Umer\":\"umer.farooq42@sps.cuny\"}\n",
        "def name_email_call():\n",
        "  actions = [\"look up\",\"add\",\"change\",\"delete\"]\n",
        "  user_input = input(f\"Please choose an action out of {actions}: \")\n",
        "  if user_input == \"look up\":\n",
        "    print(name_email[input(\"Please enter the name whose email address you want to look up: \")])\n",
        "  elif user_input == \"add\":\n",
        "    new_name = input(\"Please enter the name of the user you would like to add: \")\n",
        "    new_email_address = input(f\"Please enter the email address of {new_name}: \")\n",
        "    name_email[new_name] = new_email_address\n",
        "    print(name_email)\n",
        "  elif user_input == \"change\":\n",
        "    change_name = input(\"Please enter the name of the user you would like to edit: \")\n",
        "    change_email_address = input(f\"Please enter the new email address of {change_name}: \")\n",
        "    name_email[change_name] = change_email_address\n",
        "    print(name_email)\n",
        "  elif user_input == \"delete\":\n",
        "    delete_name = input(\"Please enter the name of the user you would like to delete: \")\n",
        "    del name_email[delete_name]\n",
        "    print(name_email)\n",
        "  else:\n",
        "    print(\"That was an invalid command\")\n",
        "    exit()\n",
        "name_email_call()"
      ],
      "metadata": {
        "id": "ia0HkAniUiAh"
      },
      "execution_count": null,
      "outputs": []
    }
  ]
}