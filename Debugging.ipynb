{
  "nbformat": 4,
  "nbformat_minor": 0,
  "metadata": {
    "colab": {
      "provenance": [],
      "authorship_tag": "ABX9TyMG/hLFWmunBf/mNHaSTapJ",
      "include_colab_link": true
    },
    "kernelspec": {
      "name": "python3",
      "display_name": "Python 3"
    },
    "language_info": {
      "name": "python"
    }
  },
  "cells": [
    {
      "cell_type": "markdown",
      "metadata": {
        "id": "view-in-github",
        "colab_type": "text"
      },
      "source": [
        "<a href=\"https://colab.research.google.com/github/Umerfarooq122/Python-Projects/blob/main/Debugging.ipynb\" target=\"_parent\"><img src=\"https://colab.research.google.com/assets/colab-badge.svg\" alt=\"Open In Colab\"/></a>"
      ]
    },
    {
      "cell_type": "code",
      "execution_count": 10,
      "metadata": {
        "colab": {
          "base_uri": "https://localhost:8080/"
        },
        "id": "cM90l0ntrdcp",
        "outputId": "b11159de-1e93-4ddf-d716-a0c4d732e7af"
      },
      "outputs": [
        {
          "output_type": "stream",
          "name": "stdout",
          "text": [
            "Enter the score for test 1: 78\n",
            "Enter the score for test 2: 89\n",
            "Enter the score for test 3: 09\n",
            "The average score is 170.0\n",
            "Congratulations!\n",
            "That is a great average!\n",
            "Enter the length for first rectangle: 55\n",
            "Enter the width for first rectangle: 66\n",
            "Enter the length for second rectangle: 77\n",
            "Enter the width for second rectaangle: 88\n",
            "Area of first rectangle = 3630\n",
            "Area of second rectangle = 6776\n",
            "Enter you name: UMER\n",
            "Enter you age: 30\n",
            "Happy birthday, UMER!  You are 30 years old today!\n"
          ]
        }
      ],
      "source": [
        "#Q1 Fix all the syntax and logical errors in the given source code \n",
        "#add comments to explain your reasoning\n",
        "\n",
        "# This program gets three test scores and displays their average.  It congratulates the user if the \n",
        "# average is a high score. The high score variable holds the value that is considered a high score.\n",
        "\n",
        "HIGH_SCORE = 95\n",
        " \n",
        "# Get the test scores.\n",
        "test1 = int(input('Enter the score for test 1: '))\n",
        "test2 = int(input('Enter the score for test 2: '))\n",
        "test3 = int(input('Enter the score for test 3: '))\n",
        "# Calculate the average test score.\n",
        "average = test1 + test2 + test3 / 3\n",
        "# Print the average.\n",
        "print('The average score is', average)\n",
        "# If the average is a high score,\n",
        "# congratulate the user.\n",
        "if average >= HIGH_SCORE:\n",
        "    print('Congratulations!')\n",
        "print('That is a great average!')\n",
        "\n",
        "#Q2\n",
        "#The area of a rectangle is the rectangle’s length times its width. Write a program that asks for the length and width of two rectangles and prints to the user the area of both rectangles. \n",
        "\n",
        "length1 = int(input('Enter the length for first rectangle: '))\n",
        "width1 = int(input('Enter the width for first rectangle: '))\n",
        "length2 = int(input('Enter the length for second rectangle: '))\n",
        "width2 = int(input('Enter the width for second rectaangle: '))\n",
        "\n",
        "area1= length1*width1\n",
        "area2 = length2*width2\n",
        "\n",
        "print('Area of first rectangle = '+ str(area1))\n",
        "print('Area of second rectangle = '+ str(area2))\n",
        "#Q3 \n",
        "#Ask a user to enter their first name and their age and assign it to the variables name and age. \n",
        "#The variable name should be a string and the variable age should be an int.  \n",
        "\n",
        "name = str(input('Enter you name: '))\n",
        "age = int(input('Enter you age: '))\n",
        "\n",
        "#Using the variables name and age, print a message to the user stating something along the lines of:\n",
        "# \"Happy birthday, name!  You are age years old today!\"\n",
        "\n",
        "print(\"Happy birthday, \"+ name+\"!  You are \"+ str(age)+ \" years old today!\")\n"
      ]
    }
  ]
}